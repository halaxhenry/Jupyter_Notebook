{
 "cells": [
  {
   "cell_type": "code",
   "execution_count": 2,
   "id": "b1387475",
   "metadata": {
    "ExecuteTime": {
     "end_time": "2021-11-17T00:25:09.562457Z",
     "start_time": "2021-11-17T00:25:09.544505Z"
    }
   },
   "outputs": [
    {
     "name": "stdout",
     "output_type": "stream",
     "text": [
      "('64bit', 'WindowsPE')\n"
     ]
    }
   ],
   "source": [
    "import platform\n",
    "print(platform.architecture())"
   ]
  },
  {
   "cell_type": "code",
   "execution_count": 4,
   "id": "a85752af",
   "metadata": {
    "ExecuteTime": {
     "end_time": "2021-11-17T00:25:38.368073Z",
     "start_time": "2021-11-17T00:25:38.250075Z"
    }
   },
   "outputs": [
    {
     "name": "stdout",
     "output_type": "stream",
     "text": [
      "Python 3.8.9\n"
     ]
    }
   ],
   "source": [
    "!python --version"
   ]
  },
  {
   "cell_type": "markdown",
   "id": "7d288fe0",
   "metadata": {},
   "source": [
    "###### 네이버에서 검색어를 입력받아 검색한 후 블로그 메뉴를 선택하고  <br>오른쪽 옵션버튼을 눌러서 정렬방식과 기간을 선택한다."
   ]
  },
  {
   "cell_type": "code",
   "execution_count": 47,
   "id": "e072343e",
   "metadata": {
    "ExecuteTime": {
     "end_time": "2021-11-17T05:21:06.208849Z",
     "start_time": "2021-11-17T05:21:06.187907Z"
    }
   },
   "outputs": [],
   "source": [
    "import sys\n",
    "import os\n",
    "import pandas as pd\n",
    "import numpy as np\n",
    "\n",
    "from bs4 import BeautifulSoup as bs\n",
    "from selenium import webdriver\n",
    "from selenium.webdriver.common.by import By\n",
    "\n",
    "import time\n",
    "import tqdm\n",
    "from tqdm.notebook import tqdm"
   ]
  },
  {
   "cell_type": "code",
   "execution_count": 48,
   "id": "e1d697c0",
   "metadata": {
    "ExecuteTime": {
     "end_time": "2021-11-17T05:21:09.166910Z",
     "start_time": "2021-11-17T05:21:07.784511Z"
    },
    "scrolled": false
   },
   "outputs": [
    {
     "name": "stdout",
     "output_type": "stream",
     "text": [
      "어느지역 맛집을 찾으시나요?구로디지털단지역 맛집\n"
     ]
    },
    {
     "data": {
      "text/plain": [
       "'구로디지털단지역 맛집'"
      ]
     },
     "execution_count": 48,
     "metadata": {},
     "output_type": "execute_result"
    }
   ],
   "source": [
    "query_text = input('어느지역 맛집을 찾으시나요?')\n",
    "query_text"
   ]
  },
  {
   "cell_type": "code",
   "execution_count": 49,
   "id": "87422a9c",
   "metadata": {
    "ExecuteTime": {
     "end_time": "2021-11-17T05:21:15.761649Z",
     "start_time": "2021-11-17T05:21:11.058909Z"
    }
   },
   "outputs": [
    {
     "name": "stderr",
     "output_type": "stream",
     "text": [
      "C:\\Users\\LG\\AppData\\Local\\Temp/ipykernel_7648/841033336.py:5: DeprecationWarning: executable_path has been deprecated, please pass in a Service object\n",
      "  driver = webdriver.Chrome(path)\n"
     ]
    }
   ],
   "source": [
    "path='C:\\webdriver\\chromedriver.exe'\n",
    "\n",
    "options = webdriver.ChromeOptions()\n",
    "options.add_argument('window_size=1600 , 900')\n",
    "driver = webdriver.Chrome(path)\n",
    "\n",
    "driver.get('https://www.naver.com')"
   ]
  },
  {
   "cell_type": "code",
   "execution_count": 12,
   "id": "e19689a1",
   "metadata": {
    "ExecuteTime": {
     "end_time": "2021-11-17T01:31:45.159887Z",
     "start_time": "2021-11-17T01:31:41.108226Z"
    }
   },
   "outputs": [
    {
     "name": "stderr",
     "output_type": "stream",
     "text": [
      "C:\\Users\\LG\\AppData\\Local\\Temp/ipykernel_7648/3740919148.py:1: DeprecationWarning: find_element_by_* commands are deprecated. Please use find_element() instead\n",
      "  driver.find_element_by_link_text(\"카페\").click()\n"
     ]
    }
   ],
   "source": [
    "driver.find_element_by_link_text(\"카페\").click()"
   ]
  },
  {
   "cell_type": "code",
   "execution_count": 19,
   "id": "7ae54e72",
   "metadata": {
    "ExecuteTime": {
     "end_time": "2021-11-17T01:49:33.445118Z",
     "start_time": "2021-11-17T01:49:30.623311Z"
    }
   },
   "outputs": [],
   "source": [
    "\n",
    "driver.find_element(By.LINK_TEXT, '카페').click()\n",
    "time.sleep(1)\n",
    "\n"
   ]
  },
  {
   "cell_type": "code",
   "execution_count": 50,
   "id": "0aa87356",
   "metadata": {
    "ExecuteTime": {
     "end_time": "2021-11-17T05:21:22.795243Z",
     "start_time": "2021-11-17T05:21:20.141662Z"
    }
   },
   "outputs": [],
   "source": [
    "#네이버 검색창에 검색어 입력\n",
    "element = driver.find_element(By.ID, 'query')\n",
    "element.send_keys(query_text)\n",
    "element.submit()\n",
    "time.sleep(1)"
   ]
  },
  {
   "cell_type": "code",
   "execution_count": 51,
   "id": "e0813268",
   "metadata": {
    "ExecuteTime": {
     "end_time": "2021-11-17T05:21:25.686439Z",
     "start_time": "2021-11-17T05:21:24.213213Z"
    }
   },
   "outputs": [],
   "source": [
    "#'VIEW' 클릭\n",
    "driver.find_element(By.LINK_TEXT, 'VIEW').click()"
   ]
  },
  {
   "cell_type": "code",
   "execution_count": 52,
   "id": "53ace1f8",
   "metadata": {
    "ExecuteTime": {
     "end_time": "2021-11-17T05:21:27.302548Z",
     "start_time": "2021-11-17T05:21:26.519901Z"
    }
   },
   "outputs": [],
   "source": [
    "# '블로그' 클릭 (XPATH 활용)\n",
    "driver.find_element(By.XPATH, '//*[@id=\"snb\"]/div[1]/div/div[1]/a[2]').click()"
   ]
  },
  {
   "cell_type": "code",
   "execution_count": 53,
   "id": "702928e0",
   "metadata": {
    "ExecuteTime": {
     "end_time": "2021-11-17T05:21:35.125240Z",
     "start_time": "2021-11-17T05:21:33.604247Z"
    }
   },
   "outputs": [
    {
     "ename": "ElementNotInteractableException",
     "evalue": "Message: element not interactable\n  (Session info: chrome=96.0.4664.45)\nStacktrace:\nBacktrace:\n\tOrdinal0 [0x00646903+2517251]\n\tOrdinal0 [0x005DF8E1+2095329]\n\tOrdinal0 [0x004E2710+1058576]\n\tOrdinal0 [0x0050E324+1237796]\n\tOrdinal0 [0x00504037+1196087]\n\tOrdinal0 [0x005264D3+1336531]\n\tOrdinal0 [0x00503A36+1194550]\n\tOrdinal0 [0x005265BA+1336762]\n\tOrdinal0 [0x00535BBF+1399743]\n\tOrdinal0 [0x0052639B+1336219]\n\tOrdinal0 [0x005027A7+1189799]\n\tOrdinal0 [0x00503609+1193481]\n\tGetHandleVerifier [0x007D5904+1577972]\n\tGetHandleVerifier [0x00880B97+2279047]\n\tGetHandleVerifier [0x006D6D09+534521]\n\tGetHandleVerifier [0x006D5DB9+530601]\n\tOrdinal0 [0x005E4FF9+2117625]\n\tOrdinal0 [0x005E98A8+2136232]\n\tOrdinal0 [0x005E99E2+2136546]\n\tOrdinal0 [0x005F3541+2176321]\n\tBaseThreadInitThunk [0x7663FA29+25]\n\tRtlGetAppContainerNamedObjectPath [0x77987A9E+286]\n\tRtlGetAppContainerNamedObjectPath [0x77987A6E+238]\n",
     "output_type": "error",
     "traceback": [
      "\u001b[1;31m---------------------------------------------------------------------------\u001b[0m",
      "\u001b[1;31mElementNotInteractableException\u001b[0m           Traceback (most recent call last)",
      "\u001b[1;32m~\\AppData\\Local\\Temp/ipykernel_7648/2493852068.py\u001b[0m in \u001b[0;36m<module>\u001b[1;34m\u001b[0m\n\u001b[0;32m      6\u001b[0m \u001b[0mdriver\u001b[0m\u001b[1;33m.\u001b[0m\u001b[0mfind_element\u001b[0m\u001b[1;33m(\u001b[0m\u001b[0mBy\u001b[0m\u001b[1;33m.\u001b[0m\u001b[0mXPATH\u001b[0m\u001b[1;33m,\u001b[0m \u001b[1;34m'//*[@id=\"snb\"]/div[2]/ul/li[2]/div/div/a[1]'\u001b[0m\u001b[1;33m)\u001b[0m\u001b[1;33m.\u001b[0m\u001b[0mclick\u001b[0m\u001b[1;33m(\u001b[0m\u001b[1;33m)\u001b[0m\u001b[1;33m\u001b[0m\u001b[1;33m\u001b[0m\u001b[0m\n\u001b[0;32m      7\u001b[0m \u001b[1;33m\u001b[0m\u001b[0m\n\u001b[1;32m----> 8\u001b[1;33m \u001b[0mdriver\u001b[0m\u001b[1;33m.\u001b[0m\u001b[0mfind_element\u001b[0m\u001b[1;33m(\u001b[0m\u001b[0mBy\u001b[0m\u001b[1;33m.\u001b[0m\u001b[0mXPATH\u001b[0m\u001b[1;33m,\u001b[0m \u001b[1;34m'//*[@id=\"snb\"]/div[2]/ul/li[3]/div/div[1]/a[7]'\u001b[0m\u001b[1;33m)\u001b[0m\u001b[1;33m.\u001b[0m\u001b[0mclick\u001b[0m\u001b[1;33m(\u001b[0m\u001b[1;33m)\u001b[0m\u001b[1;33m\u001b[0m\u001b[1;33m\u001b[0m\u001b[0m\n\u001b[0m",
      "\u001b[1;32mc:\\users\\lg\\appdata\\local\\programs\\python\\python38\\lib\\site-packages\\selenium\\webdriver\\remote\\webelement.py\u001b[0m in \u001b[0;36mclick\u001b[1;34m(self)\u001b[0m\n\u001b[0;32m     78\u001b[0m     \u001b[1;32mdef\u001b[0m \u001b[0mclick\u001b[0m\u001b[1;33m(\u001b[0m\u001b[0mself\u001b[0m\u001b[1;33m)\u001b[0m \u001b[1;33m->\u001b[0m \u001b[1;32mNone\u001b[0m\u001b[1;33m:\u001b[0m\u001b[1;33m\u001b[0m\u001b[1;33m\u001b[0m\u001b[0m\n\u001b[0;32m     79\u001b[0m         \u001b[1;34m\"\"\"Clicks the element.\"\"\"\u001b[0m\u001b[1;33m\u001b[0m\u001b[1;33m\u001b[0m\u001b[0m\n\u001b[1;32m---> 80\u001b[1;33m         \u001b[0mself\u001b[0m\u001b[1;33m.\u001b[0m\u001b[0m_execute\u001b[0m\u001b[1;33m(\u001b[0m\u001b[0mCommand\u001b[0m\u001b[1;33m.\u001b[0m\u001b[0mCLICK_ELEMENT\u001b[0m\u001b[1;33m)\u001b[0m\u001b[1;33m\u001b[0m\u001b[1;33m\u001b[0m\u001b[0m\n\u001b[0m\u001b[0;32m     81\u001b[0m \u001b[1;33m\u001b[0m\u001b[0m\n\u001b[0;32m     82\u001b[0m     \u001b[1;32mdef\u001b[0m \u001b[0msubmit\u001b[0m\u001b[1;33m(\u001b[0m\u001b[0mself\u001b[0m\u001b[1;33m)\u001b[0m\u001b[1;33m:\u001b[0m\u001b[1;33m\u001b[0m\u001b[1;33m\u001b[0m\u001b[0m\n",
      "\u001b[1;32mc:\\users\\lg\\appdata\\local\\programs\\python\\python38\\lib\\site-packages\\selenium\\webdriver\\remote\\webelement.py\u001b[0m in \u001b[0;36m_execute\u001b[1;34m(self, command, params)\u001b[0m\n\u001b[0;32m    691\u001b[0m             \u001b[0mparams\u001b[0m \u001b[1;33m=\u001b[0m \u001b[1;33m{\u001b[0m\u001b[1;33m}\u001b[0m\u001b[1;33m\u001b[0m\u001b[1;33m\u001b[0m\u001b[0m\n\u001b[0;32m    692\u001b[0m         \u001b[0mparams\u001b[0m\u001b[1;33m[\u001b[0m\u001b[1;34m'id'\u001b[0m\u001b[1;33m]\u001b[0m \u001b[1;33m=\u001b[0m \u001b[0mself\u001b[0m\u001b[1;33m.\u001b[0m\u001b[0m_id\u001b[0m\u001b[1;33m\u001b[0m\u001b[1;33m\u001b[0m\u001b[0m\n\u001b[1;32m--> 693\u001b[1;33m         \u001b[1;32mreturn\u001b[0m \u001b[0mself\u001b[0m\u001b[1;33m.\u001b[0m\u001b[0m_parent\u001b[0m\u001b[1;33m.\u001b[0m\u001b[0mexecute\u001b[0m\u001b[1;33m(\u001b[0m\u001b[0mcommand\u001b[0m\u001b[1;33m,\u001b[0m \u001b[0mparams\u001b[0m\u001b[1;33m)\u001b[0m\u001b[1;33m\u001b[0m\u001b[1;33m\u001b[0m\u001b[0m\n\u001b[0m\u001b[0;32m    694\u001b[0m \u001b[1;33m\u001b[0m\u001b[0m\n\u001b[0;32m    695\u001b[0m     \u001b[1;32mdef\u001b[0m \u001b[0mfind_element\u001b[0m\u001b[1;33m(\u001b[0m\u001b[0mself\u001b[0m\u001b[1;33m,\u001b[0m \u001b[0mby\u001b[0m\u001b[1;33m=\u001b[0m\u001b[0mBy\u001b[0m\u001b[1;33m.\u001b[0m\u001b[0mID\u001b[0m\u001b[1;33m,\u001b[0m \u001b[0mvalue\u001b[0m\u001b[1;33m=\u001b[0m\u001b[1;32mNone\u001b[0m\u001b[1;33m)\u001b[0m\u001b[1;33m:\u001b[0m\u001b[1;33m\u001b[0m\u001b[1;33m\u001b[0m\u001b[0m\n",
      "\u001b[1;32mc:\\users\\lg\\appdata\\local\\programs\\python\\python38\\lib\\site-packages\\selenium\\webdriver\\remote\\webdriver.py\u001b[0m in \u001b[0;36mexecute\u001b[1;34m(self, driver_command, params)\u001b[0m\n\u001b[0;32m    416\u001b[0m         \u001b[0mresponse\u001b[0m \u001b[1;33m=\u001b[0m \u001b[0mself\u001b[0m\u001b[1;33m.\u001b[0m\u001b[0mcommand_executor\u001b[0m\u001b[1;33m.\u001b[0m\u001b[0mexecute\u001b[0m\u001b[1;33m(\u001b[0m\u001b[0mdriver_command\u001b[0m\u001b[1;33m,\u001b[0m \u001b[0mparams\u001b[0m\u001b[1;33m)\u001b[0m\u001b[1;33m\u001b[0m\u001b[1;33m\u001b[0m\u001b[0m\n\u001b[0;32m    417\u001b[0m         \u001b[1;32mif\u001b[0m \u001b[0mresponse\u001b[0m\u001b[1;33m:\u001b[0m\u001b[1;33m\u001b[0m\u001b[1;33m\u001b[0m\u001b[0m\n\u001b[1;32m--> 418\u001b[1;33m             \u001b[0mself\u001b[0m\u001b[1;33m.\u001b[0m\u001b[0merror_handler\u001b[0m\u001b[1;33m.\u001b[0m\u001b[0mcheck_response\u001b[0m\u001b[1;33m(\u001b[0m\u001b[0mresponse\u001b[0m\u001b[1;33m)\u001b[0m\u001b[1;33m\u001b[0m\u001b[1;33m\u001b[0m\u001b[0m\n\u001b[0m\u001b[0;32m    419\u001b[0m             response['value'] = self._unwrap_value(\n\u001b[0;32m    420\u001b[0m                 response.get('value', None))\n",
      "\u001b[1;32mc:\\users\\lg\\appdata\\local\\programs\\python\\python38\\lib\\site-packages\\selenium\\webdriver\\remote\\errorhandler.py\u001b[0m in \u001b[0;36mcheck_response\u001b[1;34m(self, response)\u001b[0m\n\u001b[0;32m    241\u001b[0m                 \u001b[0malert_text\u001b[0m \u001b[1;33m=\u001b[0m \u001b[0mvalue\u001b[0m\u001b[1;33m[\u001b[0m\u001b[1;34m'alert'\u001b[0m\u001b[1;33m]\u001b[0m\u001b[1;33m.\u001b[0m\u001b[0mget\u001b[0m\u001b[1;33m(\u001b[0m\u001b[1;34m'text'\u001b[0m\u001b[1;33m)\u001b[0m\u001b[1;33m\u001b[0m\u001b[1;33m\u001b[0m\u001b[0m\n\u001b[0;32m    242\u001b[0m             \u001b[1;32mraise\u001b[0m \u001b[0mexception_class\u001b[0m\u001b[1;33m(\u001b[0m\u001b[0mmessage\u001b[0m\u001b[1;33m,\u001b[0m \u001b[0mscreen\u001b[0m\u001b[1;33m,\u001b[0m \u001b[0mstacktrace\u001b[0m\u001b[1;33m,\u001b[0m \u001b[0malert_text\u001b[0m\u001b[1;33m)\u001b[0m  \u001b[1;31m# type: ignore[call-arg]  # mypy is not smart enough here\u001b[0m\u001b[1;33m\u001b[0m\u001b[1;33m\u001b[0m\u001b[0m\n\u001b[1;32m--> 243\u001b[1;33m         \u001b[1;32mraise\u001b[0m \u001b[0mexception_class\u001b[0m\u001b[1;33m(\u001b[0m\u001b[0mmessage\u001b[0m\u001b[1;33m,\u001b[0m \u001b[0mscreen\u001b[0m\u001b[1;33m,\u001b[0m \u001b[0mstacktrace\u001b[0m\u001b[1;33m)\u001b[0m\u001b[1;33m\u001b[0m\u001b[1;33m\u001b[0m\u001b[0m\n\u001b[0m\u001b[0;32m    244\u001b[0m \u001b[1;33m\u001b[0m\u001b[0m\n\u001b[0;32m    245\u001b[0m     \u001b[1;32mdef\u001b[0m \u001b[0m_value_or_default\u001b[0m\u001b[1;33m(\u001b[0m\u001b[0mself\u001b[0m\u001b[1;33m,\u001b[0m \u001b[0mobj\u001b[0m\u001b[1;33m:\u001b[0m \u001b[0mMapping\u001b[0m\u001b[1;33m[\u001b[0m\u001b[0m_KT\u001b[0m\u001b[1;33m,\u001b[0m \u001b[0m_VT\u001b[0m\u001b[1;33m]\u001b[0m\u001b[1;33m,\u001b[0m \u001b[0mkey\u001b[0m\u001b[1;33m:\u001b[0m \u001b[0m_KT\u001b[0m\u001b[1;33m,\u001b[0m \u001b[0mdefault\u001b[0m\u001b[1;33m:\u001b[0m \u001b[0m_VT\u001b[0m\u001b[1;33m)\u001b[0m \u001b[1;33m->\u001b[0m \u001b[0m_VT\u001b[0m\u001b[1;33m:\u001b[0m\u001b[1;33m\u001b[0m\u001b[1;33m\u001b[0m\u001b[0m\n",
      "\u001b[1;31mElementNotInteractableException\u001b[0m: Message: element not interactable\n  (Session info: chrome=96.0.4664.45)\nStacktrace:\nBacktrace:\n\tOrdinal0 [0x00646903+2517251]\n\tOrdinal0 [0x005DF8E1+2095329]\n\tOrdinal0 [0x004E2710+1058576]\n\tOrdinal0 [0x0050E324+1237796]\n\tOrdinal0 [0x00504037+1196087]\n\tOrdinal0 [0x005264D3+1336531]\n\tOrdinal0 [0x00503A36+1194550]\n\tOrdinal0 [0x005265BA+1336762]\n\tOrdinal0 [0x00535BBF+1399743]\n\tOrdinal0 [0x0052639B+1336219]\n\tOrdinal0 [0x005027A7+1189799]\n\tOrdinal0 [0x00503609+1193481]\n\tGetHandleVerifier [0x007D5904+1577972]\n\tGetHandleVerifier [0x00880B97+2279047]\n\tGetHandleVerifier [0x006D6D09+534521]\n\tGetHandleVerifier [0x006D5DB9+530601]\n\tOrdinal0 [0x005E4FF9+2117625]\n\tOrdinal0 [0x005E98A8+2136232]\n\tOrdinal0 [0x005E99E2+2136546]\n\tOrdinal0 [0x005F3541+2176321]\n\tBaseThreadInitThunk [0x7663FA29+25]\n\tRtlGetAppContainerNamedObjectPath [0x77987A9E+286]\n\tRtlGetAppContainerNamedObjectPath [0x77987A6E+238]\n"
     ]
    }
   ],
   "source": [
    "#옵션 클릭\n",
    "driver.find_element(By.XPATH, '//*[@id=\"snb\"]/div[1]/div/div[2]/a').click()\n",
    "\n",
    "# 정렬은 관련도순으로 기간은 6개월\n",
    "\n",
    "driver.find_element(By.XPATH, '//*[@id=\"snb\"]/div[2]/ul/li[2]/div/div/a[1]').click()\n",
    "\n",
    "driver.find_element(By.XPATH, '//*[@id=\"snb\"]/div[2]/ul/li[3]/div/div[1]/a[7]').click()\n"
   ]
  },
  {
   "cell_type": "code",
   "execution_count": 54,
   "id": "5ef7f939",
   "metadata": {
    "ExecuteTime": {
     "end_time": "2021-11-17T05:22:52.658208Z",
     "start_time": "2021-11-17T05:22:40.992043Z"
    }
   },
   "outputs": [],
   "source": [
    "#스크롤 다운\n",
    "\n",
    "def scroll_down(driver):\n",
    "    driver.execute_script('window.scrollTo(0, 99999999)')\n",
    "    time.sleep(1)\n",
    "    \n",
    "for i in range(10):\n",
    "    scroll_down(driver)"
   ]
  },
  {
   "cell_type": "code",
   "execution_count": 55,
   "id": "8cae3f7d",
   "metadata": {
    "ExecuteTime": {
     "end_time": "2021-11-17T05:23:21.092974Z",
     "start_time": "2021-11-17T05:23:07.195684Z"
    }
   },
   "outputs": [
    {
     "name": "stdout",
     "output_type": "stream",
     "text": [
      " \n",
      "url갯수 : 330\n",
      "title갯수 : 330\n"
     ]
    }
   ],
   "source": [
    "url_list = []\n",
    "title_list = []\n",
    "\n",
    "#URL크롤링\n",
    "articles = '.api_txt_lines.total_tit'\n",
    "article_raw = driver.find_elements(By.CSS_SELECTOR , articles)\n",
    "\n",
    "\n",
    "for article in article_raw:\n",
    "#     print(article)\n",
    "    url = article.get_attribute('href')\n",
    "    url_list.append(url)\n",
    "    \n",
    "for article in article_raw:\n",
    "    title = article.text\n",
    "    title_list.append(title)\n",
    "#     print(title)\n",
    "print(' ')\n",
    "print(\"url갯수 :\" , len(url_list))\n",
    "print(\"title갯수 :\" , len(title_list))"
   ]
  },
  {
   "cell_type": "code",
   "execution_count": 62,
   "id": "48db3357",
   "metadata": {
    "ExecuteTime": {
     "end_time": "2021-11-17T05:28:56.544899Z",
     "start_time": "2021-11-17T05:28:55.879319Z"
    },
    "scrolled": true
   },
   "outputs": [],
   "source": [
    "#판다스를 활용한 데이터 프레임 만들고 excel에 저장\n",
    "\n",
    "df = pd.DataFrame({'url': url_list , 'title':title_list})\n",
    "\n",
    "#저장하기\n",
    "df.to_excel(\"blog_url.xlsx\",'w',encoding='UTF-8-SIG')"
   ]
  },
  {
   "cell_type": "markdown",
   "id": "c4878604",
   "metadata": {},
   "source": [
    "###### 블로그 내용 크롤링하기"
   ]
  },
  {
   "cell_type": "code",
   "execution_count": 65,
   "id": "2c59f8b0",
   "metadata": {
    "ExecuteTime": {
     "end_time": "2021-11-17T05:33:21.032608Z",
     "start_time": "2021-11-17T05:33:20.916918Z"
    }
   },
   "outputs": [
    {
     "data": {
      "text/html": [
       "<div>\n",
       "<style scoped>\n",
       "    .dataframe tbody tr th:only-of-type {\n",
       "        vertical-align: middle;\n",
       "    }\n",
       "\n",
       "    .dataframe tbody tr th {\n",
       "        vertical-align: top;\n",
       "    }\n",
       "\n",
       "    .dataframe thead th {\n",
       "        text-align: right;\n",
       "    }\n",
       "</style>\n",
       "<table border=\"1\" class=\"dataframe\">\n",
       "  <thead>\n",
       "    <tr style=\"text-align: right;\">\n",
       "      <th></th>\n",
       "      <th>Unnamed: 0</th>\n",
       "      <th>url</th>\n",
       "      <th>title</th>\n",
       "    </tr>\n",
       "  </thead>\n",
       "  <tbody>\n",
       "    <tr>\n",
       "      <th>0</th>\n",
       "      <td>0</td>\n",
       "      <td>https://blog.naver.com/ssj7748?Redirect=Log&amp;lo...</td>\n",
       "      <td>으뜸이던 구로디지털단지역 맛집</td>\n",
       "    </tr>\n",
       "    <tr>\n",
       "      <th>1</th>\n",
       "      <td>1</td>\n",
       "      <td>https://blog.naver.com/kimmso1?Redirect=Log&amp;lo...</td>\n",
       "      <td>빈틈없는 구로디지털단지역 맛집 모음</td>\n",
       "    </tr>\n",
       "    <tr>\n",
       "      <th>2</th>\n",
       "      <td>2</td>\n",
       "      <td>https://blog.naver.com/80ggongju?Redirect=Log&amp;...</td>\n",
       "      <td>옹골찼던 구로디지털단지역 맛집 리스트</td>\n",
       "    </tr>\n",
       "    <tr>\n",
       "      <th>3</th>\n",
       "      <td>3</td>\n",
       "      <td>https://blog.naver.com/flyfree6?Redirect=Log&amp;l...</td>\n",
       "      <td>공감했던 구로디지털단지역 맛집 소개</td>\n",
       "    </tr>\n",
       "    <tr>\n",
       "      <th>4</th>\n",
       "      <td>4</td>\n",
       "      <td>https://blog.naver.com/bal2000?Redirect=Log&amp;lo...</td>\n",
       "      <td>상당했던 구로디지털단지역 맛집 리스트</td>\n",
       "    </tr>\n",
       "    <tr>\n",
       "      <th>...</th>\n",
       "      <td>...</td>\n",
       "      <td>...</td>\n",
       "      <td>...</td>\n",
       "    </tr>\n",
       "    <tr>\n",
       "      <th>325</th>\n",
       "      <td>325</td>\n",
       "      <td>https://blog.naver.com/yiji6274?Redirect=Log&amp;l...</td>\n",
       "      <td>구로디지털단지역 점심식사 사조참치 알탕 대구지리 실하다</td>\n",
       "    </tr>\n",
       "    <tr>\n",
       "      <th>326</th>\n",
       "      <td>326</td>\n",
       "      <td>https://blog.naver.com/icandoitonce?Redirect=L...</td>\n",
       "      <td>[구로디지털단지][다케롤]가성비 좋은 단골 참치집</td>\n",
       "    </tr>\n",
       "    <tr>\n",
       "      <th>327</th>\n",
       "      <td>327</td>\n",
       "      <td>https://blog.naver.com/torarei?Redirect=Log&amp;lo...</td>\n",
       "      <td>[구로디지털단지역, 구로동] 형제특수부위 껍데기편</td>\n",
       "    </tr>\n",
       "    <tr>\n",
       "      <th>328</th>\n",
       "      <td>328</td>\n",
       "      <td>https://blog.naver.com/abwlr22?Redirect=Log&amp;lo...</td>\n",
       "      <td>[구로디지털] - 내가 먹어본 뼈해장국중에 살이 제일 많은 집...</td>\n",
       "    </tr>\n",
       "    <tr>\n",
       "      <th>329</th>\n",
       "      <td>329</td>\n",
       "      <td>https://blog.naver.com/yeonn-kk?Redirect=Log&amp;l...</td>\n",
       "      <td>구로구 구로동 / 도림천 / 구로디지털단지역 신림춘천집.</td>\n",
       "    </tr>\n",
       "  </tbody>\n",
       "</table>\n",
       "<p>330 rows × 3 columns</p>\n",
       "</div>"
      ],
      "text/plain": [
       "     Unnamed: 0                                                url  \\\n",
       "0             0  https://blog.naver.com/ssj7748?Redirect=Log&lo...   \n",
       "1             1  https://blog.naver.com/kimmso1?Redirect=Log&lo...   \n",
       "2             2  https://blog.naver.com/80ggongju?Redirect=Log&...   \n",
       "3             3  https://blog.naver.com/flyfree6?Redirect=Log&l...   \n",
       "4             4  https://blog.naver.com/bal2000?Redirect=Log&lo...   \n",
       "..          ...                                                ...   \n",
       "325         325  https://blog.naver.com/yiji6274?Redirect=Log&l...   \n",
       "326         326  https://blog.naver.com/icandoitonce?Redirect=L...   \n",
       "327         327  https://blog.naver.com/torarei?Redirect=Log&lo...   \n",
       "328         328  https://blog.naver.com/abwlr22?Redirect=Log&lo...   \n",
       "329         329  https://blog.naver.com/yeonn-kk?Redirect=Log&l...   \n",
       "\n",
       "                                     title  \n",
       "0                         으뜸이던 구로디지털단지역 맛집  \n",
       "1                      빈틈없는 구로디지털단지역 맛집 모음  \n",
       "2                     옹골찼던 구로디지털단지역 맛집 리스트  \n",
       "3                      공감했던 구로디지털단지역 맛집 소개  \n",
       "4                     상당했던 구로디지털단지역 맛집 리스트  \n",
       "..                                     ...  \n",
       "325         구로디지털단지역 점심식사 사조참치 알탕 대구지리 실하다  \n",
       "326            [구로디지털단지][다케롤]가성비 좋은 단골 참치집  \n",
       "327            [구로디지털단지역, 구로동] 형제특수부위 껍데기편  \n",
       "328  [구로디지털] - 내가 먹어본 뼈해장국중에 살이 제일 많은 집...  \n",
       "329        구로구 구로동 / 도림천 / 구로디지털단지역 신림춘천집.  \n",
       "\n",
       "[330 rows x 3 columns]"
      ]
     },
     "execution_count": 65,
     "metadata": {},
     "output_type": "execute_result"
    }
   ],
   "source": [
    "#csv or xlsx 파일을 불러오기\n",
    "\n",
    "url_load = pd.read_excel(\"blog_url.xlsx\")\n",
    "url_load"
   ]
  },
  {
   "cell_type": "code",
   "execution_count": null,
   "id": "a179bf7f",
   "metadata": {
    "ExecuteTime": {
     "start_time": "2021-11-17T06:57:34.625Z"
    }
   },
   "outputs": [
    {
     "data": {
      "application/vnd.jupyter.widget-view+json": {
       "model_id": "a3f559d3008b488c8ece8d926b19b3bd",
       "version_major": 2,
       "version_minor": 0
      },
      "text/plain": [
       "  0%|          | 0/30 [00:00<?, ?it/s]"
      ]
     },
     "metadata": {},
     "output_type": "display_data"
    },
    {
     "name": "stderr",
     "output_type": "stream",
     "text": [
      "C:\\Users\\LG\\AppData\\Local\\Temp/ipykernel_7648/1683603413.py:8: DeprecationWarning: executable_path has been deprecated, please pass in a Service object\n",
      "  driver = webdriver.Chrome(path)\n"
     ]
    }
   ],
   "source": [
    "dict = {}\n",
    "\n",
    "#수집할 글이 갯수\n",
    "number = 30\n",
    "url_load['url']\n",
    "for i in tqdm(range(number)):\n",
    "    url = url_load['url'][i]\n",
    "    driver = webdriver.Chrome(path)\n",
    "    driver.get(url)\n",
    "    try:\n",
    "        #iframe 접근\n",
    "        driver.switch_to.frame('mainFrame')\n",
    "        \n",
    "        target_info = {}\n",
    "        \n",
    "        #제목 크롤링 \n",
    "        overlays = \".se-module.se-module-text.se-title-text\"\n",
    "        title = driver.find_element(By.CSS_SELECTOR, overlays)\n",
    "        title = title.text\n",
    "#         print(title)\n",
    "        #글쓴이 크롤링 \n",
    "        overlays = \".nick\"\n",
    "        nick = driver.find_element(By.CSS_SELECTOR, overlays)\n",
    "        nick = nick.text\n",
    "#         print(nick)\n",
    "        #날짜 크롤링 \n",
    "        overlays = \".se_publishDate.pcol2\"\n",
    "        date = driver.find_element(By.CSS_SELECTOR, overlays)\n",
    "        date = date.text\n",
    "#         print(date)\n",
    "        #내용 크롤링 \n",
    "        overlays = \".se-component.se-text.se-l-default\"\n",
    "        contents = driver.find_elements(By.CSS_SELECTOR, overlays)\n",
    "#         print(contents.text)\n",
    "        content_list= []\n",
    "        for content in contents:\n",
    "#             print('test4')\n",
    "            content_list.append(content.text)\n",
    "        content_str = \" \".join(content_list)\n",
    "        \n",
    "        #target_info 에 추가\n",
    "        target_info['title'] = title\n",
    "        target_info['nickname'] = nick\n",
    "        target_info['data'] = date\n",
    "        target_info['content'] = content_str\n",
    "        \n",
    "        dict[i] = target_info\n",
    "        driver.close()\n",
    "    except:\n",
    "        driver.close()\n",
    "        print('test')\n",
    "        time.sleep(1)\n",
    "        continue\n",
    "        \n",
    "    #\n",
    "    \n",
    "print(dict)  "
   ]
  },
  {
   "cell_type": "code",
   "execution_count": null,
   "id": "e05818dc",
   "metadata": {},
   "outputs": [],
   "source": []
  }
 ],
 "metadata": {
  "kernelspec": {
   "display_name": "Python 3 (ipykernel)",
   "language": "python",
   "name": "python3"
  },
  "language_info": {
   "codemirror_mode": {
    "name": "ipython",
    "version": 3
   },
   "file_extension": ".py",
   "mimetype": "text/x-python",
   "name": "python",
   "nbconvert_exporter": "python",
   "pygments_lexer": "ipython3",
   "version": "3.8.9"
  },
  "toc": {
   "base_numbering": 1,
   "nav_menu": {},
   "number_sections": true,
   "sideBar": true,
   "skip_h1_title": false,
   "title_cell": "Table of Contents",
   "title_sidebar": "Contents",
   "toc_cell": false,
   "toc_position": {},
   "toc_section_display": true,
   "toc_window_display": false
  },
  "varInspector": {
   "cols": {
    "lenName": 16,
    "lenType": 16,
    "lenVar": 40
   },
   "kernels_config": {
    "python": {
     "delete_cmd_postfix": "",
     "delete_cmd_prefix": "del ",
     "library": "var_list.py",
     "varRefreshCmd": "print(var_dic_list())"
    },
    "r": {
     "delete_cmd_postfix": ") ",
     "delete_cmd_prefix": "rm(",
     "library": "var_list.r",
     "varRefreshCmd": "cat(var_dic_list()) "
    }
   },
   "types_to_exclude": [
    "module",
    "function",
    "builtin_function_or_method",
    "instance",
    "_Feature"
   ],
   "window_display": false
  }
 },
 "nbformat": 4,
 "nbformat_minor": 5
}
