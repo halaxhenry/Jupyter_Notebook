{
 "cells": [
  {
   "cell_type": "code",
   "execution_count": 7,
   "metadata": {},
   "outputs": [
    {
     "name": "stdout",
     "output_type": "stream",
     "text": [
      "Requirement already satisfied: selenium in /usr/local/lib/python3.9/site-packages (4.0.0)\n",
      "Requirement already satisfied: trio-websocket~=0.9 in /usr/local/lib/python3.9/site-packages (from selenium) (0.9.2)\n",
      "Requirement already satisfied: urllib3[secure]~=1.26 in /usr/local/lib/python3.9/site-packages (from selenium) (1.26.7)\n",
      "Requirement already satisfied: trio~=0.17 in /usr/local/lib/python3.9/site-packages (from selenium) (0.19.0)\n",
      "Requirement already satisfied: sortedcontainers in /usr/local/lib/python3.9/site-packages (from trio~=0.17->selenium) (2.4.0)\n",
      "Requirement already satisfied: idna in /usr/local/lib/python3.9/site-packages (from trio~=0.17->selenium) (3.3)\n",
      "Requirement already satisfied: async-generator>=1.9 in /usr/local/lib/python3.9/site-packages (from trio~=0.17->selenium) (1.10)\n",
      "Requirement already satisfied: sniffio in /usr/local/lib/python3.9/site-packages (from trio~=0.17->selenium) (1.2.0)\n",
      "Requirement already satisfied: outcome in /usr/local/lib/python3.9/site-packages (from trio~=0.17->selenium) (1.1.0)\n",
      "Requirement already satisfied: attrs>=19.2.0 in /usr/local/lib/python3.9/site-packages (from trio~=0.17->selenium) (21.2.0)\n",
      "Requirement already satisfied: wsproto>=0.14 in /usr/local/lib/python3.9/site-packages (from trio-websocket~=0.9->selenium) (1.0.0)\n",
      "Requirement already satisfied: pyOpenSSL>=0.14 in /usr/local/lib/python3.9/site-packages (from urllib3[secure]~=1.26->selenium) (21.0.0)\n",
      "Requirement already satisfied: certifi in /usr/local/lib/python3.9/site-packages (from urllib3[secure]~=1.26->selenium) (2021.10.8)\n",
      "Requirement already satisfied: cryptography>=1.3.4 in /usr/local/lib/python3.9/site-packages (from urllib3[secure]~=1.26->selenium) (35.0.0)\n",
      "Requirement already satisfied: cffi>=1.12 in /usr/local/lib/python3.9/site-packages (from cryptography>=1.3.4->urllib3[secure]~=1.26->selenium) (1.15.0)\n",
      "Requirement already satisfied: pycparser in /usr/local/lib/python3.9/site-packages (from cffi>=1.12->cryptography>=1.3.4->urllib3[secure]~=1.26->selenium) (2.20)\n",
      "Requirement already satisfied: six>=1.5.2 in /usr/local/lib/python3.9/site-packages (from pyOpenSSL>=0.14->urllib3[secure]~=1.26->selenium) (1.15.0)\n",
      "Requirement already satisfied: h11<1,>=0.9.0 in /usr/local/lib/python3.9/site-packages (from wsproto>=0.14->trio-websocket~=0.9->selenium) (0.12.0)\n",
      "\u001b[33mWARNING: You are using pip version 21.2.4; however, version 21.3.1 is available.\n",
      "You should consider upgrading via the '/usr/local/opt/python@3.9/bin/python3.9 -m pip install --upgrade pip' command.\u001b[0m\n"
     ]
    }
   ],
   "source": [
    "!pip3 install --user selenium"
   ]
  },
  {
   "cell_type": "code",
   "execution_count": 85,
   "metadata": {},
   "outputs": [
    {
     "name": "stdout",
     "output_type": "stream",
     "text": [
      "('64bit', '')\n"
     ]
    }
   ],
   "source": [
    "import platform\n",
    "print(platform.architecture())"
   ]
  },
  {
   "cell_type": "code",
   "execution_count": 44,
   "metadata": {},
   "outputs": [
    {
     "name": "stdout",
     "output_type": "stream",
     "text": [
      "Python 3.9.7\n"
     ]
    }
   ],
   "source": [
    "!python3 --version"
   ]
  },
  {
   "cell_type": "markdown",
   "metadata": {},
   "source": [
    "#### 네이버에서 검색어를 입력받아 검색한 후 블로그에 메뉴를 선택하고\n",
    "#### 오른쪽 옵션 버튼을 눌러서 정렬방식과 기간을 선택한다."
   ]
  },
  {
   "cell_type": "code",
   "execution_count": 47,
   "metadata": {},
   "outputs": [
    {
     "name": "stdout",
     "output_type": "stream",
     "text": [
      "Found existing installation: tqdm 4.62.3\n",
      "Uninstalling tqdm-4.62.3:\n",
      "  Would remove:\n",
      "    /usr/local/bin/tqdm\n",
      "    /usr/local/lib/python3.9/site-packages/tqdm-4.62.3.dist-info/*\n",
      "    /usr/local/lib/python3.9/site-packages/tqdm/*\n",
      "Proceed (Y/n)? ^C\n",
      "\u001b[31mERROR: Operation cancelled by user\u001b[0m\n",
      "\u001b[33mDEPRECATION: Configuring installation scheme with distutils config files is deprecated and will no longer work in the near future. If you are using a Homebrew or Linuxbrew Python, please see discussion at https://github.com/Homebrew/homebrew-core/issues/76621\u001b[0m\n",
      "\u001b[31mERROR: Could not find a version that satisfies the requirement time (from versions: none)\u001b[0m\n",
      "\u001b[31mERROR: No matching distribution found for time\u001b[0m\n",
      "\u001b[33mWARNING: You are using pip version 21.2.4; however, version 21.3.1 is available.\n",
      "You should consider upgrading via the '/usr/local/opt/python@3.9/bin/python3.9 -m pip install --upgrade pip' command.\u001b[0m\n"
     ]
    }
   ],
   "source": [
    "!pip3 uninstall tqdm\n",
    "!pip3 install time"
   ]
  },
  {
   "cell_type": "code",
   "execution_count": null,
   "metadata": {},
   "outputs": [],
   "source": [
    "#### https://stackoverflow.com/questions/60362018/macos-catalinav-10-15-3-error-chromedriver-cannot-be-opened-because-the-de\n",
    "\n",
    "#### chrome driver 설치시 오류 발생했을 경우 참고\n",
    "\n",
    "#### /usr/local/Caskroom/chromedriver \n",
    "#### xattr -d com.apple.quarantine chromedriver "
   ]
  },
  {
   "cell_type": "code",
   "execution_count": 1,
   "metadata": {},
   "outputs": [],
   "source": [
    "import sys\n",
    "import os\n",
    "import pandas as pd\n",
    "import numpy as np\n",
    "\n",
    "from bs4 import BeautifulSoup as bs\n",
    "from selenium import webdriver\n",
    "\n",
    "import time\n",
    "import tqdm\n",
    "\n",
    "from tqdm.notebook import tqdm\n",
    "from selenium.webdriver.common.by import By\n"
   ]
  },
  {
   "cell_type": "markdown",
   "metadata": {},
   "source": [
    "## 선행으로 brew install --cask chromedriver 를 통해 chromedriver를 설치해주세요"
   ]
  },
  {
   "cell_type": "code",
   "execution_count": 80,
   "metadata": {},
   "outputs": [
    {
     "name": "stderr",
     "output_type": "stream",
     "text": [
      "/var/folders/7q/w2pfc2954kn9shlpryvsyq_w0000gn/T/ipykernel_31774/1306755907.py:8: DeprecationWarning: executable_path has been deprecated, please pass in a Service object\n",
      "  browser = webdriver.Chrome(path)\n",
      "/var/folders/7q/w2pfc2954kn9shlpryvsyq_w0000gn/T/ipykernel_31774/1306755907.py:11: DeprecationWarning: find_element_by_* commands are deprecated. Please use find_element() instead\n",
      "  browser.find_element_by_link_text(\"카페\").click()\n"
     ]
    }
   ],
   "source": [
    "# brew 로 설치된 chromedriver의 path\n",
    "path = '/usr/local/bin/chromedriver' \n",
    "\n",
    "options = webdriver.ChromeOptions()\n",
    "options.add_argument('window_size=1600, 900')\n",
    "\n",
    "# 크롬 드라이버를 사용\n",
    "browser = webdriver.Chrome(path)\n",
    "\n",
    "browser.get('https://www.naver.com')\n",
    "browser.find_element_by_link_text(\"카페\").click()\n",
    "\n"
   ]
  },
  {
   "cell_type": "markdown",
   "metadata": {},
   "source": [
    "## 혹시 Error: “chromedriver” cannot be opened because the developer cannot be verified. Unable to launch the chrome browser 에러 발생시에\n",
    "\n",
    "## /usr/local/Caskroom/chromedriver \n",
    "## $ xattr -d com.apple.quarantine chromedriver "
   ]
  },
  {
   "cell_type": "code",
   "execution_count": 23,
   "metadata": {},
   "outputs": [
    {
     "name": "stderr",
     "output_type": "stream",
     "text": [
      "/var/folders/7q/w2pfc2954kn9shlpryvsyq_w0000gn/T/ipykernel_38338/273554222.py:11: DeprecationWarning: executable_path has been deprecated, please pass in a Service object\n",
      "  driver = webdriver.Chrome(path)\n"
     ]
    }
   ],
   "source": [
    "query_text = input('어느 지역 맛집을 찾으시나요?')\n",
    "query_text\n",
    "\n",
    "# brew 로 설치된 chromedriver의 path\n",
    "path = '/usr/local/bin/chromedriver' \n",
    "\n",
    "options = webdriver.ChromeOptions()\n",
    "options.add_argument('window_size=1600, 900')\n",
    "\n",
    "# 크롬 드라이버를 사용\n",
    "driver = webdriver.Chrome(path)\n",
    "\n",
    "driver.get('https://www.naver.com/')\n",
    "\n",
    "#네이버 검색창에 검색어 입력\n",
    "element = driver.find_element(By.ID, 'query')\n",
    "element.send_keys(query_text)\n",
    "element.submit()\n",
    "\n",
    "# View 클릭\n",
    "driver.find_element(By.XPATH, '//*[@id=\"lnb\"]/div[1]/div/ul/li[2]/a').click()\n",
    "\n",
    "#중간에 타임슬립을 안넣으면 다음 단계로 안넘어가지네요\n",
    "time.sleep(1) \n",
    "\n",
    "# 옵션클릭\n",
    "driver.find_element(By.XPATH, '//*[@id=\"snb\"]/div[1]/div/div[3]/a').click()\n",
    "time.sleep(1)\n",
    "\n",
    "# 6개월 클릭\n",
    "driver.find_element(By.XPATH, '//*[@id=\"snb\"]/div[2]/ul/li[3]/div/div[1]/a[7]').click()\n",
    "\n",
    "time.sleep(1)\n",
    "\n"
   ]
  },
  {
   "cell_type": "code",
   "execution_count": 24,
   "metadata": {},
   "outputs": [],
   "source": [
    "def scroll_down(driver):\n",
    "    driver.execute_script('window.scrollTo(0, 99999999)')\n",
    "    time.sleep(1)\n",
    "\n",
    "for i in range(10):\n",
    "    scroll_down(driver)"
   ]
  },
  {
   "cell_type": "code",
   "execution_count": 26,
   "metadata": {},
   "outputs": [
    {
     "name": "stdout",
     "output_type": "stream",
     "text": [
      " \n",
      "url갯수 :  106\n",
      "title 갯수 :  106\n"
     ]
    }
   ],
   "source": [
    "url_list = []\n",
    "title_list = []\n",
    "\n",
    "# URL 크롤링\n",
    "articles = '.api_txt_lines.total_tit'\n",
    "article_raw = driver.find_elements(By.CSS_SELECTOR, articles)\n",
    "\n",
    "for article in article_raw:\n",
    "    url = article.get_attribute('href')\n",
    "    url_list.append(url)\n",
    "\n",
    "for article in article_raw:\n",
    "    title = article.text\n",
    "    title_list.append(title)\n",
    "\n",
    "\n",
    "print(' ')\n",
    "print('url갯수 : ' , len(url_list))\n",
    "print('title 갯수 : ' , len(title_list))\n",
    "\n",
    "\n"
   ]
  },
  {
   "cell_type": "code",
   "execution_count": 30,
   "metadata": {},
   "outputs": [],
   "source": [
    "# 판다스를 활용한 데이터 프레임 만들기\n",
    "\n",
    "df = pd.DataFrame({'url': url_list, 'title':title_list})\n",
    "\n",
    "#저장하기\n",
    "df.to_csv(\"blog_url.csv\")"
   ]
  },
  {
   "cell_type": "markdown",
   "metadata": {},
   "source": [
    "### df.to_csv(\"Blog_url.csv\", encoding='utf-8-sig')"
   ]
  },
  {
   "cell_type": "code",
   "execution_count": 40,
   "metadata": {},
   "outputs": [
    {
     "data": {
      "text/html": [
       "<div>\n",
       "<style scoped>\n",
       "    .dataframe tbody tr th:only-of-type {\n",
       "        vertical-align: middle;\n",
       "    }\n",
       "\n",
       "    .dataframe tbody tr th {\n",
       "        vertical-align: top;\n",
       "    }\n",
       "\n",
       "    .dataframe thead th {\n",
       "        text-align: right;\n",
       "    }\n",
       "</style>\n",
       "<table border=\"1\" class=\"dataframe\">\n",
       "  <thead>\n",
       "    <tr style=\"text-align: right;\">\n",
       "      <th></th>\n",
       "      <th>Unnamed: 0</th>\n",
       "      <th>url</th>\n",
       "      <th>title</th>\n",
       "    </tr>\n",
       "  </thead>\n",
       "  <tbody>\n",
       "    <tr>\n",
       "      <th>0</th>\n",
       "      <td>0</td>\n",
       "      <td>https://blog.naver.com/ssj7748/222563976522</td>\n",
       "      <td>으뜸이던 구로디지털단지역 맛집</td>\n",
       "    </tr>\n",
       "    <tr>\n",
       "      <th>1</th>\n",
       "      <td>1</td>\n",
       "      <td>https://blog.naver.com/80ggongju/222567100207</td>\n",
       "      <td>옹골찼던 구로디지털단지역 맛집 리스트</td>\n",
       "    </tr>\n",
       "    <tr>\n",
       "      <th>2</th>\n",
       "      <td>2</td>\n",
       "      <td>https://blog.naver.com/kimmso1/222570321694</td>\n",
       "      <td>빈틈없는 구로디지털단지역 맛집 모음</td>\n",
       "    </tr>\n",
       "    <tr>\n",
       "      <th>3</th>\n",
       "      <td>3</td>\n",
       "      <td>https://blog.naver.com/leeih009/222556576060</td>\n",
       "      <td>최고였던 구로디지털단지역 맛집 소개</td>\n",
       "    </tr>\n",
       "    <tr>\n",
       "      <th>4</th>\n",
       "      <td>4</td>\n",
       "      <td>https://blog.naver.com/flyfree6/222526535476</td>\n",
       "      <td>공감했던 구로디지털단지역 맛집 소개</td>\n",
       "    </tr>\n",
       "    <tr>\n",
       "      <th>...</th>\n",
       "      <td>...</td>\n",
       "      <td>...</td>\n",
       "      <td>...</td>\n",
       "    </tr>\n",
       "    <tr>\n",
       "      <th>101</th>\n",
       "      <td>101</td>\n",
       "      <td>https://cafe.naver.com/mjann/2319379</td>\n",
       "      <td>구로디지털단지역 맛집 핫하다!</td>\n",
       "    </tr>\n",
       "    <tr>\n",
       "      <th>102</th>\n",
       "      <td>102</td>\n",
       "      <td>https://cafe.naver.com/2039seoul/354609</td>\n",
       "      <td>[마감][12월 9일 토요일 19시 30분 구로디지털단지역] 정정아식당에서 불토!?</td>\n",
       "    </tr>\n",
       "    <tr>\n",
       "      <th>103</th>\n",
       "      <td>103</td>\n",
       "      <td>https://cafe.naver.com/freemsrain/1635</td>\n",
       "      <td>구로 디지털단지역 마사지 구인구직은 역시 라니테라피!</td>\n",
       "    </tr>\n",
       "    <tr>\n",
       "      <th>104</th>\n",
       "      <td>104</td>\n",
       "      <td>https://cafe.naver.com/lhuniv9/224148</td>\n",
       "      <td>2호선 구로디지털단지역 도보5분 신축분리형원룸 2층 전세1억</td>\n",
       "    </tr>\n",
       "    <tr>\n",
       "      <th>105</th>\n",
       "      <td>105</td>\n",
       "      <td>https://cafe.naver.com/fox5282/3090047</td>\n",
       "      <td>구로디지털단지역 체형교정 잘하는곳 추천해주세요</td>\n",
       "    </tr>\n",
       "  </tbody>\n",
       "</table>\n",
       "<p>106 rows × 3 columns</p>\n",
       "</div>"
      ],
      "text/plain": [
       "     Unnamed: 0                                            url  \\\n",
       "0             0    https://blog.naver.com/ssj7748/222563976522   \n",
       "1             1  https://blog.naver.com/80ggongju/222567100207   \n",
       "2             2    https://blog.naver.com/kimmso1/222570321694   \n",
       "3             3   https://blog.naver.com/leeih009/222556576060   \n",
       "4             4   https://blog.naver.com/flyfree6/222526535476   \n",
       "..          ...                                            ...   \n",
       "101         101           https://cafe.naver.com/mjann/2319379   \n",
       "102         102        https://cafe.naver.com/2039seoul/354609   \n",
       "103         103         https://cafe.naver.com/freemsrain/1635   \n",
       "104         104          https://cafe.naver.com/lhuniv9/224148   \n",
       "105         105         https://cafe.naver.com/fox5282/3090047   \n",
       "\n",
       "                                              title  \n",
       "0                                  으뜸이던 구로디지털단지역 맛집  \n",
       "1                              옹골찼던 구로디지털단지역 맛집 리스트  \n",
       "2                               빈틈없는 구로디지털단지역 맛집 모음  \n",
       "3                               최고였던 구로디지털단지역 맛집 소개  \n",
       "4                               공감했던 구로디지털단지역 맛집 소개  \n",
       "..                                              ...  \n",
       "101                                구로디지털단지역 맛집 핫하다!  \n",
       "102  [마감][12월 9일 토요일 19시 30분 구로디지털단지역] 정정아식당에서 불토!?  \n",
       "103                   구로 디지털단지역 마사지 구인구직은 역시 라니테라피!  \n",
       "104               2호선 구로디지털단지역 도보5분 신축분리형원룸 2층 전세1억  \n",
       "105                       구로디지털단지역 체형교정 잘하는곳 추천해주세요  \n",
       "\n",
       "[106 rows x 3 columns]"
      ]
     },
     "execution_count": 40,
     "metadata": {},
     "output_type": "execute_result"
    }
   ],
   "source": [
    "# csv or xlsx 파일을 불러오기\n",
    "\n",
    "url_load = pd.read_csv('blog_url.csv')\n",
    "url_load"
   ]
  },
  {
   "cell_type": "code",
   "execution_count": 59,
   "metadata": {},
   "outputs": [
    {
     "name": "stderr",
     "output_type": "stream",
     "text": [
      "/var/folders/7q/w2pfc2954kn9shlpryvsyq_w0000gn/T/ipykernel_38338/1628391400.py:8: DeprecationWarning: executable_path has been deprecated, please pass in a Service object\n",
      "  driver = webdriver.Chrome(path)\n"
     ]
    },
    {
     "name": "stdout",
     "output_type": "stream",
     "text": [
      "{0: {'title': '으뜸이던 구로디지털단지역 맛집', 'nickname': '쿨쿨', 'data': '2021. 11. 10. 12:50', 'content': '며칠 전 부모님 결혼기념일을 맞이하여 가족들과 외식을 해볼 겸 구로디지털단지역 맛집에 다녀왔어요.\\n신선도 높은 참치에 다양한 스끼다시까지 모두가 대만족했던 곳이라 소개할게요.\\n1. 황제참치\\n*주소 : 서울특별시 구로구 디지털로 32나길 12\\n*영업시간 : 매일 11:00 ~ 02:00\\n*전화번호 : 02-856-3323\\n혼마구로 35,000원 이 날 방문한 매장은 이마트에서 도보로 4분이면 도착했는데요.\\n검은색 간판에 조명이 환하게 빛나고 있어서 찾아내기가 쉽더라고요. 가게 앞에는 영업시간이 적혀있었어요.\\n오전 11시에 오픈해서 새벽 2시에 마감이라니 참고해두시면 편하실거에요. 안으로 들어서면 식사중인 손님들로 인해 홀은 이미 만석이었는데요.\\n인기가 많은 구로디지털단지역 맛집이라서 맛은 어떨지 궁금하더라고요. 한켠에는 다찌 테이블이 마련되어 있었는데요.\\n고급스러운 인테리어에 분위기가 좋아서 혼술을 마시기에도 손색이 없겠더라고요. 몇발자국 옮겨보면 개별룸이 준비되어 있었는데요.\\n4인부터 30인까지 수용이 가능한 구로디지털단지역 맛집이라 클라스가 돋보이더라고요. 직원분의 안내를 받고 방을 하나씩 둘러봤는데요.\\n청결에 신경을 많이 쓰시는지 전체적으로 깔끔해서 위생적인 부분에서 안심이 되더라고요. 구경을 마친 뒤 자리에 앉아 메뉴를 살펴봤어요.\\n무한리필 전문점 답게 코스요리부터 단품까지 다양하게 판매중이길래 가성비가 돋보였던 특(39,000원)으로 주문해봤어요. 한 15분쯤 지나고나면 상차림이 차려졌는데요.\\n참치와 잘 어울리는 정갈한 구성으로 내어주셔서 구로디지털단지역 맛집을 찾아오길 잘했다는 생각이 들더라고요. 먼저 공복을 달래줄 흑임자죽부터 먹어봤어요.\\n국내산 찹쌀이 들어있어 부드러운 밥알에고소한 향내음이 매력적이었어요. 이어 미소된장국도 한모금 마셔봤는데요.\\n장시간 우려낸 국물이라 진한 풍미가 베여있어서 인상깊더라고요. 다음은 숙성된 절임류를 맛 볼 차례였어요.\\n국내에서 보기 힘든 일본식 반찬이라 대접받는 기분이 들어서 좋았어요. 냉큼 참치내장 젓갈부터 맛보았는데요.\\n신선한 참치를 엄선해서 만들었는지 비린내 없이 감칠맛이 뛰어나서 자꾸만 손이 가더라고요. 연이어 붉은색 시소노미구라게도 한입했어요.\\n자연산 해파리의 꼬들거리는 식감에 시소 특유의 풍미까지 더해져서 별미였어요. 그런가하면 타코와사비도 나오길래 한젓가락 집어봤는데요.\\n톡 쏘는 감칠맛은 물론이고 육질도 쫄깃해서 흠 잡을데가 없더라고요. 틈틈히 마늘절임도 한알씩 먹어보았는데요.\\n국산 육쪽마늘이라 매운맛과 단맛의 적절한 조화가 기억에 오랫동안 남더라고요. 개인적으로 좋아하는 간장새우도 있길래 한입 베어물었어요.\\n서해에서 공수한 싱싱한 새우로만 담궈서 탱글탱글한 식감이 포인트였어요. 다음으로 참치초밥들도 살펴봤는데요.\\n고급 스시집보다 횟감도 두툼한데다 초대리의 간도 딱 맞아서 실력을 인정해주고 싶더라고요. 어느정도 먹다보면 구로디지털단지역 맛집의 특참치가 테이블에 등장했어요.\\n오도로, 맥가도로, 꼬리, 배꼽살, 적신등 가격에 비해 양이 많아서 가성비가 돋보였어요. 우선은 기본 부위인 적신부터 한입했는데요.\\n풍부한 살코기에 지방이 적게 함유되서 말랑말랑한 질감이 인상적이더라고요. 뒤이어 참다랑어의 꼬리살도 음미했어요.\\n탄력있는 살점에 힘줄이 콕 박혀있어서 쫄깃한 육질이 일품이었어요. 게다가 새하얀 배꼽살은 입안에서 살살 녹아내렸는데요.\\n지방의 함유량이 높아서 미식가인 어머니도 맛있다며 칭찬을 아끼지 않으시더라고요. 이외에 가마도로도 푸짐하게 얹어져있었는데,\\n등급이 좋은 태평양산 참치라서 골고루 분포된 마블링에 엄지가 절로 세워졌어요. 그냥 먹어도 맛있었지만 반찬을 곁들여주면 별미였는데요.\\n다채로운 풍미와 식감들이 한데 어우러져서 미소짓게 만들더라고요. 슬슬 후반부로 넘어와서 은행구이에 손을 댔어요.\\n뜨거운 철판에 노릇노릇하게 구워진 마늘과 함께 담겨있어서 골라먹는 재미가 쏠쏠했어요. 옆쪽에는 갓 조리된 참치조림이 놓여있었는데요.\\n오랜시간 졸여냈는지 매콤한 양념이 깊숙히 스며있어서 완전 밥도둑이더라고요. 다음으로는 메로구이가 테이블로 나왔는데,\\n식재료 관리가 잘 되어있어 잡냄새도 없는데다 부드럽고 촉촉한 생선살이 인상깊었어요. 이건 홍합이랑 파프리카가 섞인 요리였는데요.\\n무르기 쉬운 재료들인데도 아삭한 식감이 고스란히 살아있어서 만족스럽더라고요. 이번에는 새우튀김이 나왔어요.\\n기름을 자주 교체하시는지 튀김옷이 깨끗해서 마음에 쏙 들었어요. 구로디지털단지역 맛집에서 마무리는 토마토 마리네이드로 장식했는데요.\\n해파리부터 채소에 버섯까지 아낌없이 들어있어서 후한 인심이 느껴지더라고요. 뒤이어 입가심용으로 냉모밀까지 먹었어요.\\n순도 99%의 메밀면이 들어있어서 찰지게 달라붙는 면발이 압권이었어요.\\n그렇게 참치의 퀄리티와 구성까지 모든것이 만족스러웠던 구로디지털단지역 맛집이라 앞으로도 간간히 들려 볼 예정이에요. 2. 부원면옥\\n*주소 : 서울 중구 남대문시장4길 41-6\\n*영업시간 : 11:00 ~ 20:00\\n*전화번호 : 02-753-7728\\n평양냉면 8,500원 회현역 맞은편에 위치한 30년 전통의 평양냉면집 인부원면옥은 생방송오늘저녁 1057회에 출연했던 곳인데요. 천연재료로 우린 맑은 육수에 수작업으로 만든 수타면을 넣어서 요리의 완성도가 높더라고요.\\n3. 검단양만\\n*주소 : 서울 송파구 백제고분로 7길 40-17\\n*영업시간 : 10:50 ~ 23:00\\n*전화번호 : 02-3431-9555\\n장어구이 39,000원 잠실새내역 근처에 장어 전문점인 검단양만은 생생정보통 16회차에 방영되었던 곳이었어요. 고창에서 직송해온 토종 장어만을 고집해서 잡냄새가 적고 살이 부드럽다는게 장점이에요.\\n4. 미림산장\\n*주소 : 서울 강북구 삼양로 181길 253\\n*영업시간 : 10:30 ~ 22:30\\n*전화번호 : 02-993-3330\\n토종닭백숙 65,000원 용덕사에서 차량으로 5분이면 도착하는 유명한 한식집인 미림산장은 VJ특공대 722회차에 소개되었던 가게인데요. 직접 기른 토종닭에 20가지 한약재를 넣고 끓인 닭백숙은 국물이 진국이더라고요.\\n5. 독립카츠\\n*주소 : 서울 마포구 연남로 19\\n*영업시간 : 11:30 ~ 21:30\\n*전화번호 : 02-333-1574\\n모듬돈카츠 14,000원 경의선 숲길공원 바로 앞에 자리한 일본식 돈까스집인 독립카츠는 생방송투데이 2470회차에서 극찬을 받았어요. 한돈 등심으로 튀겨낸 돈까스를 선보이는데, 연한 육질과 바삭한 튀김옷이 특징이에요.\\n이 포스팅은 소정의 원고료를 지원받아 작성하였습니다.'}, 1: {'title': '옹골찼던 구로디지털단지역 맛집 리스트', 'nickname': '꽁주빵주', 'data': '2021. 11. 14. 8:00', 'content': ' 며칠 전 친구들과 저녁 약속이 있어서 지인이 알려준 구로디지털단지역 맛집을 찾아갔어요. 선도 좋은 해산물 요리를 푸짐하게 즐겼던 곳이라 소개해 드리려고 해요! 이 날 방문한 품격사시미는 깔깔거리 내에 자리를 잡고 있어요. 커다란 건물에 새하얀 간판이 밝게 들어와 초행길임에도 쉽게 찾았네요. 실내로 입장해보니 은은한 조명이 비치는 홀이 우리를 맞이해주었는데요. 이른 시간인데도 곳곳에 식사하시는 손님들이 많더라고요. 안내받은 자리에 착석 후 메뉴판을 스캔해봤어요. 단품도 있었지만, 가성비가 훌륭한 세트 구성이 있어서 바로 주문을 했어요. 얼마 남짓 지나자 밑반찬과 함께 메인요리가 셋팅되었어요. 가짓수도 많고 플레이팅도 예쁘게 되어 있어서 먹음직스러워 보이더라고요! 우선 구로디지털단지역 맛집 국물떡볶이를 먹어보기로 했어요. 떡과 어묵이 한가득 들어 있어서 다같이 나눠 먹기 괜찮아요. 간이 알맞아서 식전에 애피타이저로 제격이었어요. 탱글한 밀떡은 취향을 제대로 저격해 주어 순식간에 그릇을 비워내게 했네요. 뒤이어 맛본 것은 연어샐러드에요. 굵기도 두툼해서 하나만 먹어도 입안 가득 차는 식감이 좋아 같이 간 일행들도 만족한 눈치였어죠. 윤기가 흐르는 모습은 시선을 강탈할 수밖에 없어요. 느끼하지 않고 담백한 맛이 훌륭해 단품으로 추가하고 싶어질 정도였네요. 샐러드로 먹을 수 있도록 채소들도 신선한 걸 준비해주셨는데요. 옆에 있던 타르타르소스에 듬뿍 찍어주면 달달함이 가미되어 풍미를 더욱 높여주었어요. 구로디지털단지역 맛집의 산낙지는 주문 즉시 잡으셨는지 신선해 보였어요. 서빙이 되고 한동안 꿈틀거리는 힘이 대단하더라고요. 얼른 숟가락을 이용해 한 술 떠 맛봤는데요. 한입 가득 넣어도 쫀득거리는 텍스처가 좋아 만족스러웠어요! 이번엔 튀김을 살펴보기 시작했어요. 바로 튀겨 나와서 그런지 바삭함을 유지하고 있었어요. 살짝 간장에 담가주면 감칠맛이 더해졌어요. 겉바속촉이 뭔지 알려주기라도 하듯 한입 베어 물면 바스락거리는 소리가 울려 퍼지더라고요. 틈틈이 콘버터를 곁들이기도 했어요. 버터의 고소함과 톡톡 터지는 알맹이의 식감이 좋아 두 번이나 더 리필을 받을 정도예요. 기다렸던 메인회는 종류가 다섯가지 이상이 나왔어요. 가리비는 물론이고 각종 해산물까지 신선하게 즐길 수 있다는 점이 구로디지털단지역 맛집의 매리트였죠. 우선 가리비부터 집어 들어 봤어요. 수율이 높아서 그런지 큼직한 알맹이가 씹혀 취향을 제대로 저격해주더라고요. 두툼하게 썰려있는 회는 가지런히 올려두셨는데요. 여러 가지 종류가 들어 있어서 번갈아 먹기 좋아요. 아무 양념을 곁들이지 않고 곧장 입가에 가져가 보았어요. 담백한 맛은 물론이고 특유의 비린내가 일절 나지 않아 예민한 제 입에도 괜찮았네요. 바다의 맛이 가득 느껴졌던 구로디지털단지역 맛집 멍게도 별미에요! 처음에는 쌉싸름하다가도 씹을수록 달콤했죠. 살짝의 와사비만으로도 풍미를 더 할 수 있었어요. 코끝을 자극하는 알싸함이 입안을 정돈해주어 물리지 않고 폭풍흡입 할 수 있었네요. 틈틈이 초장을 함께해주는 것도 잊지 않았는데요. 새콤달콤함이 회의 본연의 맛을 유지하며 풍미를 진하게 만들어 주었어요. 중간에는 구로디지털단지역 맛집에서 소주와 맥주를 추가하여 마셨어요. 시원한 목 넘김과 요리들의 조화가 기가 막히더라고요. 관자는 큼지막하여 먹음직스러웠는데요. 몇 번 씹지 않아도 부드러운 목 넘김이 예술이었어요. 끝으로 장식해준 매운탕의 얼큰함은 해장을 해주는 것 같았어요. 생선은 물론이고 각종 채소까지 듬뿍 들어 있어서 육수의 진함이 남달랐네요. 건더기에 있는 살코기를 발라 먹는 재미도 있었어요. 국물이 스며들어 있어서 그런지 매콤한게 제 입맛에 맞았어요. 이렇게 구로디지털단지역 맛집에서 친구들과 흡족스로운 식사를 하였어요. 해산물이 모두 신선하고 맛이 좋아 다음에는 부모님과 재방문할 예정이랍니다!  저녁에는 대림사거리 인근에 위치한 곰탕집에 갔어요. 내부가 넓었고 고등색으로 인테리어를 해서 고급스러웠 보였는데요. 꼬리탕은 국물이 진하고 고기가 푸짐하게 들어가 있어서 만족스러웠어요. 점심에는 가족들과 가리봉시장 근천에 있는 중식집에 다녀왔어요. 매장이 오래되었는지 옛스러운 느낌이 좋았던 곳인데요. 군만두는 바삭한 식감이 일품이었고 담백한 맛이 훌륭해 맛있게 먹었답니다. 식후에는 이마트 구로점에서 도보로 3분거리인 케이크 전문점에 방문했어요. 실내는 크지는 않지만 아기자기한 장식품들로 꾸며 놓아 분위기 좋았는데요. 딸기주스는 달콤한 맛이 으뜸이라 디저트의 조화가 좋아 남김없이 먹었어요. 다음날에는 구로G밸리 비즈플라자 건물안에 위치한 전골집에 갔어요. 매장이 크고 깔끔하게 인테리어를 하셔서 세련되보였어요. 김치찌개는 해남 배추로 만든 묵은지로만 사용해서 그런지 국물의 깊은 맛이 일품이었답니다.\\n<!-- 본 포스팅은 소정의 원고료를 받고 작성하였습니다 -->'}, 2: {'title': '빈틈없는 구로디지털단지역 맛집 모음', 'nickname': '따짱맘킴쏘\\n(kimmso1)', 'data': '17시간 전', 'content': '지난 주말 친구들과 구로에서 만났다가 근방에서 유명하다는 구로디지털단지역 맛집에 방문했어요. \\n신선한 초밥, 사시미, 우동, 모밀까지 다채롭게 즐겼는데요 저렴한 가격에 감동했던 곳이라 소개해 볼게요. \\n1. 상무초밥\\n모듬스시 11,000원/오늘의스시 15,000원 주소 : 서울특별시 관악구 시흥대로 568 1층\\n영업시간 : 매일 11:00 - 23:00\\n전화번호 : 02-859-3339 이날 찾아갔던 상무초밥은 구로 이마트점에서 차로 5분이면 도착할 수 있었어요. \\n큰 대로변 1층 건물에 흰색 간판이 멀리서도 눈에 띄어 차 안에서도 쉽게 찾을 수 있었어요.  건물 외벽에는 영업시간에 대한 안내 팻말이 붙어있었는데요. \\n매일 오전 11시부터 오후 11시까지 연중무휴라고 하니 방문 시 참고해 보세요.  구로디지털단지역 맛집 앞에는 전용 주차장도 마련되어 있었어요. \\n덕분에 차를 가지고 간 저희도 주차 걱정 없이 수월하게 파킹 할 수 있었어요.  현관문을 열고 들어가면 대기석이 쭉 놓여 있었는데요. \\n푹신한 쿠션 덕에 대기시간에도 편하게 기다릴 수 있어 문제없어 보였어요.  그런가 하면 큐얼 체크 기계도 시선을 사로잡았는데요. \\n입장하는 손님 모두 큐얼 인증을 마친 뒤에 입장할 수 있으니 요즘 같은 시국에도 안심할 수 있었어요.  더 안쪽으로 발걸음을 옮기니 탁 트인 내부 홀이 펼쳐졌어요. \\n층고가 높아 전혀 답답하지 않았고 테이블은 앞, 뒤로 넓게 떨어져 있어 쾌적한 식사가 가능해 보였어요.  구로디지털단지역 맛집의 주방은 오픈형으로 개방되어 있었는데요. \\n재료 손질 중인 셰프님은 앞치마, 위생모, 마스크, 장갑까지 철저하게 착용하고 계셔서 위생적으로도 칭찬할 만했어요.  게다가 유아용 의자도 비치되어 있었는데요. \\n영유아를 동반한 가족단위 손님을 생각한 사장님의 배려심에 감동적이었어요.  한쪽에는 음료 냉장고도 확인해 볼 수 있었어요. \\n탄산음료, 주스뿐 아니라 매장에서 직접 담근 식혜까지 부담스럽지 않은 가격에 판매하고 있어 만족스러웠어요.  직원분의 안내에 자리를 잡고 앉아봤어요. \\n먼지 하나 없이 말끔하게 닦여있는 테이블이라 까탈스러운 친구도 흡족한 미소를 지었어요.  사이드에는 3종류의 기본 곁들임찬이 통에 담겨 있었는데요. \\n락교, 단무지, 초생강까지 전부 일식 요리와 잘 어울리는 것들이라 케미가 기대됐어요.  본격적인 식사를 위해 구로디지털단지역 맛집의 메뉴판을 쭉 읽어봤어요. \\n다양한 종류의 일식요리가 적혀있었는데 가장 베스트라는 모듬회, 오늘의 초밥, 오마카세를 추천받아 주문을 넣었어요.  잠시 후 저희가 주문한 음식들이 테이블 위로 한상 가득 차려졌는데요. \\n하나같이 신선한 비주얼은 물론 플레이팅도 화려해서 인증샷으로 한 컷 남겨봤어요.  제일 먼저 백김치를 맛봤는데요. \\n양념을 흐르는 물에 씻어 참기름으로 볶아낸 별미스러움에 자꾸만 손이 갔어요.  그런가 하면 마늘장아찌에도 손을 뻗어봤어요. \\n간장에 푹 절여진 탓에 매운맛이 덜하고 감칠맛이 진해 식욕을 끌여올려줬어요.  다음은 구로디지털단지역 맛집의 냉모밀도 선점해 봤는데요. \\n쫄깃한 면발을 냉육수에 푹 담가먹는 재미도 쏠쏠해 지루할 틈이 없었어요.  이번에는 참치초밥을 공략해 봤어요. \\n품질이 좋은 생선만 사용해 살이 통통했고 살점의 단맛이 고스란히 전해졌어요.  그리고 연어초밥도 입에 쏙 넣어봤어요. \\n몇 번 씹지도 않았는데 사르를 녹아버리는 질감에 두 눈이 번쩍 뜨였어요.  다음은 소고기불초밥을 음미해 봤어요. \\n송골송골 육즙은 무론 표면을 토치로 구워 은은하게 올라오는 불향까지 미식가인 친구도 인정하는 눈치였어요.  이윽고 스시오마카세도 모습을 드러냈는데요. \\n차가운 돌판에 담겨있는 다채로운 종류의 초밥은 오랜 시간 신선함을 유지해 주니 더할 나위 없었어요.  구로디지털단지역 맛집의 묵은지 초밥을 냠 해봤는데요. \\n단촛물이 스며든 찰기 가득한 밥알에 아삭하면서도 새큼한 김치의 캐미가 좋아 자꾸만 손이 갔어요.  뿐만 아니라 초새우도 입가에 가져가 봤어요. \\n톡톡 터지는 새우살밥이 입에 착착 감겨 순식간에 한 접시를 클리어했어요.  물론 간장새우도 즐겨봤는데요. \\n간장에 숙성됐음에도 새우의 단미가 뒤처지질 않아 감탄사가 터져 나왔어요.  이윽고 우동도 맛보기로 했는데요. \\n가쓰오부시 육수가 우동면에 잘 스며들어 이것만으로도 일당백을 해냈어요.  마지막은 수정과로 대미를 장식해 봤어요. \\n쌉싸름하면서도 달콤한 수정과로 입가심은 물론 속까지 시원하게 풀어줄 수 있어 완벽했던 구로디지털단지역 맛집이라 다음 모임도 여기서 하자며 약속했답니다! 2. 고마워케이크\\n말차라떼 6,000원 주소 : 서울 구로구 디지털로 300\\n영업시간 : 평일 10:30 - 22:30\\n전화번호 : 0507-1412-3906\\n식후에는 이마트 구로점에서 도보로 3분 거리인 케이크 전문점에 방문했어요. \\n가게 내부가 크지는 않지만 아기자기한 장식품들로 꾸며 놓아 분위기 좋았는데요. \\n딸기주스는 달콤한 맛이 으뜸이라 디저트의 조화가 좋아 남김없이 먹었어요. \\n3. 원래순교자관\\n완탕 5,000원 주소 : 서울 구로구 디지털로19길 12\\n영업시간 : 매일 11:00 - 22:00\\n전화번호 : 02-855-8488\\n저녁에는 가족들과 가리봉시장 근처에 있는 중식집에 다녀왔어요. \\n매장이 오래됐는지 예스러운 느낌이 향토적으로 느껴져 편안하고 아늑했어요. \\n군만두는 바삭한 식감이 일품이었고 담백한 맛이 훌륭해 맛있게 흡입했어요. \\n4. 데이즈앤데이즈\\n바질 크로칸트 4,500원 주소 : 서울 관악구 시흥대로 578 광안빌딩 2층\\n운영시간 : 매일 09:00 - 00:00\\n전화번호 : 0507-1426-0093\\n구디역 사거리 방면에 위치한 베이커리집으로 생방송투데이 2347회에도 소개됐던 매장이에요. \\n당일 생산 및 판매 원칙의 빵들로 흠뻑 취할 수 있었어요. \\n그중에서도 바질과 생크림이 듬뿍 들어간 크로칸트가 최고로 꼽힌다고 했는데 추가로 직접 로스팅 하는 커피와 건강음료도 인기 만점이었어요. \\n5. 등나무집\\n꼬리찜(中) 70,000원 주소 : 서울 동작구 대림로 52\\n운영시간 : 매일 11:00 - 22:00\\n전화번호 : 02-843-8989\\n마지막으로 대림사거리 근방에 자리한 등나무집은 유명 연예인이 단골로 갈 정도로 이름난 곳이에요. \\n메뉴 중에 시그니처로 불리는 꼬리찜은 쫀득한 육질이 찬탄을 자아냈어요. \\n최고의 식재료를 향한 사장님의 열망을 온전히 체험할 수 있는 곳이니 꼭 들러보시길 바랄게요. '}}\n"
     ]
    }
   ],
   "source": [
    "dict = {}\n",
    "\n",
    "#수집할 글이 갯수\n",
    "number = 3\n",
    "url_load['url']\n",
    "for i in (range(number)):\n",
    "    url = url_load['url'][i]\n",
    "    driver = webdriver.Chrome(path)\n",
    "    driver.get(url)\n",
    "    try:\n",
    "        #iframe 접근\n",
    "        driver.switch_to.frame('mainFrame')\n",
    "        \n",
    "        target_info = {}\n",
    "        \n",
    "        #제목 크롤링 \n",
    "        overlays = \".se-module.se-module-text.se-title-text\"\n",
    "        title = driver.find_element(By.CSS_SELECTOR, overlays)\n",
    "        title = title.text\n",
    "#         print(title)\n",
    "        #글쓴이 크롤링 \n",
    "        overlays = \".nick\"\n",
    "        nick = driver.find_element(By.CSS_SELECTOR, overlays)\n",
    "        nick = nick.text\n",
    "#         print(nick)\n",
    "        #날짜 크롤링 \n",
    "        overlays = \".se_publishDate.pcol2\"\n",
    "        date = driver.find_element(By.CSS_SELECTOR, overlays)\n",
    "        date = date.text\n",
    "#         print(date)\n",
    "        #내용 크롤링 \n",
    "        overlays = \".se-component.se-text.se-l-default\"\n",
    "        contents = driver.find_elements(By.CSS_SELECTOR, overlays)\n",
    "#         print(contents.text)\n",
    "        content_list= []\n",
    "        for content in contents:\n",
    "#             print('test4')\n",
    "            content_list.append(content.text)\n",
    "        content_str = \" \".join(content_list)\n",
    "        \n",
    "        #target_info 에 추가\n",
    "        target_info['title'] = title\n",
    "        target_info['nickname'] = nick\n",
    "        target_info['data'] = date\n",
    "        target_info['content'] = content_str\n",
    "        \n",
    "        dict[i] = target_info\n",
    "        driver.close()\n",
    "    except:\n",
    "        driver.close()\n",
    "        print('test')\n",
    "        time.sleep(1)\n",
    "        continue\n",
    "        \n",
    "    #\n",
    "    \n",
    "print(dict)  "
   ]
  },
  {
   "cell_type": "code",
   "execution_count": 55,
   "metadata": {},
   "outputs": [],
   "source": [
    "result_df = pd.DataFrame(dict,)\n",
    "result_df = result_df.T\n",
    "result_df\n",
    "result_df.to_csv('blog_content.csv')"
   ]
  },
  {
   "cell_type": "code",
   "execution_count": null,
   "metadata": {},
   "outputs": [],
   "source": []
  }
 ],
 "metadata": {
  "interpreter": {
   "hash": "aee8b7b246df8f9039afb4144a1f6fd8d2ca17a180786b69acc140d282b71a49"
  },
  "kernelspec": {
   "display_name": "Python 3.9.7 64-bit",
   "language": "python",
   "name": "python3"
  },
  "language_info": {
   "codemirror_mode": {
    "name": "ipython",
    "version": 3
   },
   "file_extension": ".py",
   "mimetype": "text/x-python",
   "name": "python",
   "nbconvert_exporter": "python",
   "pygments_lexer": "ipython3",
   "version": "3.9.7"
  },
  "orig_nbformat": 4
 },
 "nbformat": 4,
 "nbformat_minor": 2
}
