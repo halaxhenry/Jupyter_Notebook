{
 "cells": [
  {
   "cell_type": "markdown",
   "id": "272d22d4",
   "metadata": {},
   "source": [
    "###### 네이버쇼핑몰 중 베스트 상품 리스트 가져오기(beautifulsoup.select)"
   ]
  },
  {
   "cell_type": "code",
   "execution_count": 8,
   "id": "49ee1a6e",
   "metadata": {
    "ExecuteTime": {
     "end_time": "2021-11-16T01:18:54.533983Z",
     "start_time": "2021-11-16T01:18:54.115437Z"
    }
   },
   "outputs": [
    {
     "data": {
      "text/plain": [
       "['1위상승가정용좌욕기상품접기',\n",
       " '2위하락달력NEW상품펼치기',\n",
       " '3위상승도미솔김치상품펼치기',\n",
       " '4위상승kf94 마스크 새부리형NEW상품펼치기',\n",
       " '5위유지크리스마스 트리상품펼치기']"
      ]
     },
     "execution_count": 8,
     "metadata": {},
     "output_type": "execute_result"
    }
   ],
   "source": [
    "import requests\n",
    "from bs4 import BeautifulSoup as bs\n",
    "\n",
    "res = requests.get('https://search.shopping.naver.com/best/home')\n",
    "soup = bs(res.content, 'html.parser')\n",
    "items = soup.select('a.chartList_btn_keyword__1F7BO')\n",
    "items\n",
    "item_list = []\n",
    "for item in items:\n",
    "#     data = item.get_text()[4:]\n",
    "#     print(data)\n",
    "    item_list.append(item.get_text())\n",
    "item_list"
   ]
  },
  {
   "cell_type": "markdown",
   "id": "6bba10eb",
   "metadata": {},
   "source": [
    "###### 네이버 주식사이트 인기종목리스트 가져오기(beautifulsoup.select)"
   ]
  },
  {
   "cell_type": "code",
   "execution_count": 18,
   "id": "10aaed18",
   "metadata": {
    "ExecuteTime": {
     "end_time": "2021-11-16T01:39:43.441120Z",
     "start_time": "2021-11-16T01:39:42.653654Z"
    }
   },
   "outputs": [
    {
     "data": {
      "text/plain": [
       "['삼성전자',\n",
       " '카카오',\n",
       " 'SK하이닉스',\n",
       " '디어유',\n",
       " '씨에스베어링',\n",
       " '셀트리온',\n",
       " 'HMM',\n",
       " '펄어비스',\n",
       " '주성엔지니어링',\n",
       " '현대차']"
      ]
     },
     "execution_count": 18,
     "metadata": {},
     "output_type": "execute_result"
    }
   ],
   "source": [
    "import requests\n",
    "from bs4 import BeautifulSoup as bs\n",
    "\n",
    "res = requests.get('https://finance.naver.com/sise/')\n",
    "soup = bs(res.content.decode('euc-kr'), 'html.parser')\n",
    "items = soup.select('ul#popularItemList li a ')\n",
    "\n",
    "item_list = []\n",
    "for item in items:\n",
    "    item_list.append(item.get_text())\n",
    "item_list"
   ]
  },
  {
   "cell_type": "markdown",
   "id": "36697f00",
   "metadata": {},
   "source": [
    "###### 주요지수 현황"
   ]
  },
  {
   "cell_type": "code",
   "execution_count": 30,
   "id": "b05917db",
   "metadata": {
    "ExecuteTime": {
     "end_time": "2021-11-16T01:56:48.597074Z",
     "start_time": "2021-11-16T01:56:48.177676Z"
    },
    "scrolled": true
   },
   "outputs": [
    {
     "name": "stdout",
     "output_type": "stream",
     "text": [
      "지수이름 : 다우산업 현재지수 36,087.45포인트 하락\n",
      "지수이름 :  나스닥 현재지수 15,853.85포인트 하락\n",
      "지수이름 :  홍콩H 현재지수 9,107.65포인트 상승\n",
      "지수이름 :  상해종합 현재지수 3,532.64포인트 하락\n",
      "지수이름 :  니케이225 현재지수 29,776.90포인트 상승\n"
     ]
    }
   ],
   "source": [
    "import requests\n",
    "from bs4 import BeautifulSoup as bs\n",
    "res = requests.get('https://finance.naver.com/sise/')\n",
    "soup = bs(res.content.decode('euc-kr', 'replace'), 'html.parser')\n",
    "items = soup.select('ul.lst_major li')\n",
    "for item in items:\n",
    "    print(f'지수이름 : {item.find(\"a\").get_text()} 현재지수 {item.find(\"span\").get_text()}포인트 {item.find(\"em\").get_text()}')"
   ]
  },
  {
   "cell_type": "markdown",
   "id": "ba2a67c2",
   "metadata": {},
   "source": [
    "###### urllib.request.urlopen "
   ]
  },
  {
   "cell_type": "code",
   "execution_count": 41,
   "id": "81c8e64b",
   "metadata": {
    "ExecuteTime": {
     "end_time": "2021-11-16T02:07:04.078448Z",
     "start_time": "2021-11-16T02:07:03.683029Z"
    }
   },
   "outputs": [
    {
     "name": "stdout",
     "output_type": "stream",
     "text": [
      "지수이름 : 다우산업 현재지수 36,087.45포인트 하락\n",
      "지수이름 :  나스닥 현재지수 15,853.85포인트 하락\n",
      "지수이름 :  홍콩H 현재지수 9,158.16포인트 상승\n",
      "지수이름 :  상해종합 현재지수 3,533.16포인트 하락\n",
      "지수이름 :  니케이225 현재지수 29,763.50포인트 하락\n"
     ]
    }
   ],
   "source": [
    "import urllib\n",
    "from bs4 import BeautifulSoup as bs\n",
    "res = urllib.request.urlopen('https://finance.naver.com/sise/')\n",
    "soup = bs(res.read().decode('euc-kr'), 'html.parser')\n",
    "soup\n",
    "items = soup.select('ul.lst_major li')\n",
    "for item in items:\n",
    "    print(f'지수이름 : {item.find(\"a\").get_text()} 현재지수 {item.find(\"span\").get_text()}포인트 {item.find(\"em\").get_text()}')"
   ]
  },
  {
   "cell_type": "code",
   "execution_count": 42,
   "id": "329215eb",
   "metadata": {
    "ExecuteTime": {
     "end_time": "2021-11-16T02:21:58.737913Z",
     "start_time": "2021-11-16T02:21:57.637732Z"
    }
   },
   "outputs": [
    {
     "name": "stdout",
     "output_type": "stream",
     "text": [
      "상품명: 보몽드 순면스퀘어 솔리드 누빔매트커버, 다크블루\n",
      "상품명: 슈에뜨룸 선인장 리플 침구 세트, 베이지\n",
      "상품명: 선우랜드 레인보우 2단 문걸이용 옷걸이 _중형, 화이트, 상세페이지참조\n",
      "상품명: 보드래 헬로우 누빔 매트리스커버, 핑크\n",
      "상품명: 보드래 퍼펙트 누빔 매트리스커버, 차콜\n",
      "상품명: 피아블 클래식 방수 매트리스커버, 화이트\n",
      "상품명: 더자리 에코항균 마이크로 매트리스커버, 밀키차콜그레이\n",
      "상품명: 더자리 프레쉬 퓨어 매트리스 커버, 퓨어 차콜그레이\n",
      "상품명: 몽쉐어 알러스킨 항균 매트리스 커버, 카키그레이\n",
      "상품명: 쿠팡 브랜드 - 코멧 홈 40수 트윌 순면 100% 홑겹 매트리스커버, 그레이\n",
      "상품명: 패브릭아트 항균 마이크로 원단 매트리스 커버, 아이보리\n",
      "상품명: 바숨 순면 누빔 침대 매트리스커버, 차콜\n",
      "상품명: WEMAX 다용도 문옷걸이, 화이트, 1개\n",
      "상품명: 타카타카 프리미엄 나노 화이바 누빔 매트리스 커버, 젠틀핑핑\n",
      "상품명: 보몽드 순면스퀘어 누빔매트커버, 다크그레이\n",
      "상품명: 보드래 국내산 순면 60수 누빔 매트리스커버, 그레이\n",
      "상품명: 보드래 퍼펙트 누빔 매트리스커버, 베이지핑크\n",
      "상품명: 쿠팡 브랜드 - 코멧 홈 40수 순면 누빔 매트리스커버, 챠콜\n",
      "상품명: 바숨 순면 누빔 침대 매트리스커버, 화이트\n",
      "상품명: 프랑떼 항균 방수 매트리스커버, 화이트\n",
      "상품명: 보몽드 순면스퀘어 솔리드 누빔매트커버, 다크블루\n",
      "상품명: 네이쳐리빙 피아블 클래식 방수 매트리스커버, 그레이\n",
      "상품명: 쿠팡 브랜드 - 코멧 홈 순면 매트리스커버, 베이지\n",
      "상품명: 타카타카 프리미엄 나노 화이바 누빔 매트리스 커버, 프렌치불독\n",
      "상품명: 더자리 에코항균 마이크로 매트리스커버, 밀키그레이\n",
      "상품명: 보몽드 순면스퀘어 누빔매트커버, 화이트\n",
      "상품명: 피아블 클래식 방수 매트리스커버, 화이트\n",
      "상품명: 쿠팡 브랜드 - 코멧 홈 순면 매트리스커버, 차콜그레이\n",
      "상품명: 쉬즈홈 모던그리드 순면 여름이불 베개커버 패드세트, 핑크\n",
      "상품명: 스코홈 빅리플 여름 차렵이불패드 3종 세트, 마린그레이\n",
      "상품명: 아망떼 시어서커 리플 홑이불 패드세트, 웨이크\n",
      "상품명: 마이센스 무더운 여름엔 시어서커 여름이불 패드 베개 이불세트 30종, 시어서커_파스텔그레이\n",
      "상품명: 믹스앤매치 로라 프릴 시어서커 침구세트, 그레이\n",
      "상품명: 에피소드1 샤베트 프릴 시어서커 여름이불패드세트, 그레이\n",
      "상품명: 슈에뜨룸 선인장 리플 침구 세트, 베이지\n",
      "상품명: 아망떼 시어서커 리플 홑이불 패드세트, 허브티\n",
      "상품명: 지베딩 아이스베어 시어서커 여름침구 풀세트, 민트그레이\n",
      "상품명: 쁘리엘르 테스 시어서커 여름이불 패드세트, 그레이\n",
      "상품명: 쉬즈홈 시어서커 홑이불 + 토퍼 + 베개커버 세트, 나나 옐로우\n",
      "상품명: 아망떼 시어서커 리플 퀼팅 이불패드세트, 리엔나\n",
      "상품명: 바자르 트로피컬 인견 여름 이불세트 인견이불 + 베개커버 2p + 인견패드, 그린\n",
      "상품명: 바자르 라이닝 혼방 인견 여름 이불베개세트 + 패드 Q, 쿨 네이비\n",
      "상품명: 슈에뜨룸 비숑 피치스킨 침구세트, 그레이\n",
      "상품명: 스코홈 시어서커 여름 이불 패드 3종 세트, 차콜\n",
      "상품명: 스코홈 어번시리즈 순면 차렵이불 누빔 매트커버세트 S 차콜\n",
      "상품명: 쉬즈홈 루즈 시어서커 차렵이불 패드세트, 그레이\n",
      "상품명: 예가로드 메리엘 시어서커 누비이불 패드세트, 블루\n",
      "상품명: 에피소드1 샤베트 프릴 시어서커 여름이불패드세트, 화이트\n",
      "상품명: 쉬즈홈 플루 시어서커 차렵이불 패드세트, 그린\n",
      "상품명: 메종 레이스 차렵 이불 세트, 블루\n",
      "상품명: 믹스앤매치 로라 프릴 시어서커 침구세트, 그린\n",
      "상품명: 슈에뜨룸 발그레 피치 리플 침구 세트, 혼합 색상\n",
      "상품명: 보몽드 메종 레이스 차렵이불 3종 세트, 민트\n",
      "상품명: 슈에뜨룸 체크 피치스킨 침구세트, 모카\n",
      "상품명: 메리엘 시어서커 에어리플 이불세트, 그레이\n",
      "상품명: 슈에뜨룸 빠삐용 시어서커 침구세트, 네이비\n",
      "상품명: 믹스앤매치 에이프릴 리플 누비이불 패드세트, 화이트\n",
      "상품명: 쉬즈홈 시어서커 홑이불 토퍼세트, 루즈 그레이\n",
      "상품명: 이코디 5단 엔틱 도어 행거, 브라운, 1개\n",
      "상품명: 선우랜드 우드볼 도어훅 4구, 실버, 1개\n",
      "상품명: 리은상점 다용도 도어훅 문걸이 행거 모자걸이 머플러 목도리 걸이, 화이트, 5개\n",
      "상품명: 퍼니스코 다용도걸이 모자걸이 가방걸이 도어훅 도어행거 문걸이, 엔틱브라운, 1세트\n",
      "상품명: 스텐 도어후크 옷걸이/도어훅 문옷걸이 행거 바지걸이, 혼합 색상, 1개\n",
      "상품명: 디비플러스 키펙스 컬러 폭조절 오버 도어훅, 블랙, 1개\n",
      "상품명: 리빙스토리 1+1 문에 거는 문 옷걸이 음자리 도어후크 방문 행거, 음자리도어후크-로즈골드, 2개\n",
      "상품명: 나이스후크 도어행거 2개 세트 (문행거), 블랙+화이트\n",
      "상품명: 리빙파이 도어훅 옷걸이 행거 7구, 블랙, 1개\n",
      "상품명: 선우랜드 우드볼 도어훅 10구, 실버, 1개\n",
      "상품명: 웰렉스 도어행거 MH1060 신형 본사직발송 미니건조대 도어옷걸이 도어훅, 고동색, 1개\n",
      "상품명: 엔비 엔틱 7구 도어훅 옷걸이, 도어훅 1+1, 1+1\n",
      "상품명: 코시나 무타공 문걸이 후크선반 1단, 화이트, 1개\n",
      "상품명: 코시나 무타공 올스텐 문걸이행거, 혼합 색상, 1개\n",
      "상품명: [아트박스 POOM/이케아] ENUDDEN 도어 행거, 본품, 수량\n",
      "상품명: 비스비바 우드 폴 다용도걸이 3구, 혼합 색상, 1개\n",
      "상품명: 숲속애 웨이브 도어후크 5구, 블랙, 1개\n",
      "상품명: 펀타스틱 다용도 문틀걸이, 화이트, 1개\n",
      "상품명: 선우랜드 우드볼 도어훅 4구, 화이트, 1개\n",
      "상품명: 네이쳐리빙 어반모카 와이어 도어훅 옷걸이 6구, 단일 색상, 1개\n",
      "상품명: 까사마루 블랑 접이식 문걸이 건조대, 1개\n",
      "상품명: 선우랜드 우드볼 도어훅 6구, 실버, 1개\n",
      "상품명: 이케아 ENUDDEN 문걸이 행거 402.516.66, 화이트, 1개\n",
      "상품명: 선우랜드 우드볼 도어훅 10구, 화이트, 1개\n",
      "상품명: 코멧 홈 우드볼 도어행거, 6구, 혼합색상\n",
      "상품명: 선우랜드 레인보우 2단 문걸이용 옷걸이 _중형, 화이트, 상세페이지참조\n",
      "상품명: 코시나 무타공 문걸이 후크선반 2단, 화이트, 1개\n",
      "상품명: 스파이더락 도어후크 8구, 화이트, 1개\n",
      "상품명: 선우랜드 우드볼 도어훅 6구, 화이트, 1개\n",
      "상품명: 코멧 홈 우드볼 도어행거, 10구, 혼합색상\n",
      "상품명: 보드래 헬로우 누빔 매트리스커버, 핑크\n",
      "상품명: 보몽드 순면스퀘어 솔리드 누빔매트커버, 아이보리\n",
      "상품명: 더자리 에코항균 마이크로 매트리스커버, 밀키핑크\n",
      "상품명: 타카타카 프리미엄 나노 화이바 누빔 매트리스 커버, 미스밍고\n",
      "상품명: 네이쳐리빙 피아블 클래식 방수 매트리스커버, 그레이\n",
      "상품명: 프로텍트어베드 베이직 매트리스 방수커버, 그레이\n"
     ]
    }
   ],
   "source": [
    "for page_num in range(10) :\n",
    "    if page_num ==0 :\n",
    "        res = requests.get('https://davelee-fun.github.io/')\n",
    "    else :\n",
    "        res = requests.get(f'https://davelee-fun.github.io/page{page_num +1}')\n",
    "    soup = bs(res.content, 'html.parser')\n",
    "    data = soup.select('h4.card-text')\n",
    "    for item in data :\n",
    "        print(item.get_text().strip())"
   ]
  },
  {
   "cell_type": "code",
   "execution_count": 86,
   "id": "de997e1d",
   "metadata": {
    "ExecuteTime": {
     "end_time": "2021-11-16T04:25:26.580895Z",
     "start_time": "2021-11-16T04:25:25.847448Z"
    },
    "scrolled": true
   },
   "outputs": [
    {
     "name": "stdout",
     "output_type": "stream",
     "text": [
      "Pre. Settlement : N/A\n",
      "Settlement Date : 2021-12-17\n",
      "Open : 4,680.75\n",
      "Bid : 4,680.50\n",
      "Last Price : 4,679.00\n"
     ]
    }
   ],
   "source": [
    "import requests\n",
    "from bs4 import BeautifulSoup as bs\n",
    "\n",
    "res = requests.get('https://finance.yahoo.com/quote/ES%3DF?p=ES%3DF')\n",
    "soup = bs(res.content, 'html.parser')\n",
    "items = soup.select('table > tbody span')\n",
    "\n",
    "items_list = []\n",
    "for item in items:\n",
    "    items_list.append(item.get_text())\n",
    "# even_list = []\n",
    "# odd_list = []\n",
    "# print(items_list)\n",
    "for i in range(len(item_list)):\n",
    "#     print(items_list[i])\n",
    "    if i % 2 ==0:\n",
    "        print(f'{items_list[i]} : {items_list[i+1]}')\n",
    "    else:\n",
    "        continue\n",
    "#         print(f'{data[idx]} : {data[idx+1]}')\n",
    "        \n",
    "\n"
   ]
  },
  {
   "cell_type": "markdown",
   "id": "5416f843",
   "metadata": {},
   "source": [
    "###### excel 저장"
   ]
  },
  {
   "cell_type": "code",
   "execution_count": 96,
   "id": "eae53a6f",
   "metadata": {
    "ExecuteTime": {
     "end_time": "2021-11-16T05:08:33.401224Z",
     "start_time": "2021-11-16T05:08:33.387263Z"
    }
   },
   "outputs": [],
   "source": [
    "import openpyxl\n",
    "def write_excel_template(filename, sheetname, listdata) :\n",
    "    excel_file = openpyxl.Workbook()\n",
    "    excel_sheet = excel_file.active\n",
    "    excel_sheet.append(['상품명' , '날짜'])\n",
    "    excel_sheet.column_dimensions['A'].width = 100\n",
    "    excel_sheet.column_dimensions['B'].width = 20\n",
    "    if sheetname != '' :\n",
    "        excel_sheet.title = sheetname\n",
    "    for item in listdata :\n",
    "        excel_sheet.append(item)\n",
    "    excel_file.save(filename)\n",
    "    excel_file.close()"
   ]
  },
  {
   "cell_type": "code",
   "execution_count": 98,
   "id": "27372e5f",
   "metadata": {
    "ExecuteTime": {
     "end_time": "2021-11-16T05:09:08.318070Z",
     "start_time": "2021-11-16T05:09:04.187996Z"
    }
   },
   "outputs": [],
   "source": [
    "import requests\n",
    "from bs4 import BeautifulSoup as bs\n",
    "product_lists = list()\n",
    "for page_num in range(10) :\n",
    "    if page_num == 0 :\n",
    "        res = requests.get('https://davelee-fun.github.io.')\n",
    "    else :\n",
    "        res = requests.get(f'http://davelee-fun.github.io/page{page_num + 1}')\n",
    "    soup = bs(res.content, 'html.parser')\n",
    "    data = soup.select('div.card')\n",
    "    for item in data :\n",
    "        product_name = item.select_one('div.card-body h4.card-text')\n",
    "        product_date = item.select_one('div.wrapfooter span.post-date')\n",
    "        product_info = [product_name.get_text().strip(), product_date.get_text()]\n",
    "        product_lists.append(product_info)\n",
    "product_lists\n",
    "\n",
    "\n",
    "write_excel_template('판매목록.xlsx','상품',product_lists )"
   ]
  },
  {
   "cell_type": "code",
   "execution_count": 102,
   "id": "35816145",
   "metadata": {
    "ExecuteTime": {
     "end_time": "2021-11-16T05:31:43.756332Z",
     "start_time": "2021-11-16T05:31:43.706466Z"
    }
   },
   "outputs": [],
   "source": [
    "엑셀자료 = openpyxl.load_workbook('판매목록.xlsx', data_only=True)"
   ]
  },
  {
   "cell_type": "code",
   "execution_count": 114,
   "id": "d7b5a888",
   "metadata": {
    "ExecuteTime": {
     "end_time": "2021-11-16T05:37:34.587608Z",
     "start_time": "2021-11-16T05:37:34.561674Z"
    },
    "scrolled": false
   },
   "outputs": [
    {
     "name": "stdout",
     "output_type": "stream",
     "text": [
      "상품명\n",
      "날짜\n",
      "상품명: 보몽드 순면스퀘어 솔리드 누빔매트커버, 다크블루\n",
      "05 Jun 2020\n",
      "상품명: 슈에뜨룸 선인장 리플 침구 세트, 베이지\n",
      "05 Jun 2020\n",
      "상품명: 선우랜드 레인보우 2단 문걸이용 옷걸이 _중형, 화이트, 상세페이지참조\n",
      "05 Jun 2020\n",
      "상품명: 보드래 헬로우 누빔 매트리스커버, 핑크\n",
      "05 Jun 2020\n",
      "상품명: 보드래 퍼펙트 누빔 매트리스커버, 차콜\n",
      "05 Jun 2020\n",
      "상품명: 피아블 클래식 방수 매트리스커버, 화이트\n",
      "05 Jun 2020\n",
      "상품명: 더자리 에코항균 마이크로 매트리스커버, 밀키차콜그레이\n",
      "05 Jun 2020\n",
      "상품명: 더자리 프레쉬 퓨어 매트리스 커버, 퓨어 차콜그레이\n",
      "05 Jun 2020\n",
      "상품명: 몽쉐어 알러스킨 항균 매트리스 커버, 카키그레이\n",
      "05 Jun 2020\n",
      "상품명: 쿠팡 브랜드 - 코멧 홈 40수 트윌 순면 100% 홑겹 매트리스커버, 그레이\n",
      "05 Jun 2020\n",
      "상품명: 패브릭아트 항균 마이크로 원단 매트리스 커버, 아이보리\n",
      "05 Jun 2020\n",
      "상품명: 바숨 순면 누빔 침대 매트리스커버, 차콜\n",
      "05 Jun 2020\n",
      "상품명: WEMAX 다용도 문옷걸이, 화이트, 1개\n",
      "05 Jun 2020\n",
      "상품명: 타카타카 프리미엄 나노 화이바 누빔 매트리스 커버, 젠틀핑핑\n",
      "05 Jun 2020\n",
      "상품명: 보몽드 순면스퀘어 누빔매트커버, 다크그레이\n",
      "05 Jun 2020\n",
      "상품명: 보드래 국내산 순면 60수 누빔 매트리스커버, 그레이\n",
      "05 Jun 2020\n",
      "상품명: 보드래 퍼펙트 누빔 매트리스커버, 베이지핑크\n",
      "05 Jun 2020\n",
      "상품명: 쿠팡 브랜드 - 코멧 홈 40수 순면 누빔 매트리스커버, 챠콜\n",
      "05 Jun 2020\n",
      "상품명: 바숨 순면 누빔 침대 매트리스커버, 화이트\n",
      "05 Jun 2020\n",
      "상품명: 프랑떼 항균 방수 매트리스커버, 화이트\n",
      "05 Jun 2020\n",
      "상품명: 보몽드 순면스퀘어 솔리드 누빔매트커버, 다크블루\n",
      "05 Jun 2020\n",
      "상품명: 네이쳐리빙 피아블 클래식 방수 매트리스커버, 그레이\n",
      "05 Jun 2020\n",
      "상품명: 쿠팡 브랜드 - 코멧 홈 순면 매트리스커버, 베이지\n",
      "05 Jun 2020\n",
      "상품명: 타카타카 프리미엄 나노 화이바 누빔 매트리스 커버, 프렌치불독\n",
      "05 Jun 2020\n",
      "상품명: 더자리 에코항균 마이크로 매트리스커버, 밀키그레이\n",
      "05 Jun 2020\n",
      "상품명: 보몽드 순면스퀘어 누빔매트커버, 화이트\n",
      "05 Jun 2020\n",
      "상품명: 피아블 클래식 방수 매트리스커버, 화이트\n",
      "05 Jun 2020\n",
      "상품명: 쿠팡 브랜드 - 코멧 홈 순면 매트리스커버, 차콜그레이\n",
      "05 Jun 2020\n",
      "상품명: 쉬즈홈 모던그리드 순면 여름이불 베개커버 패드세트, 핑크\n",
      "05 Jun 2020\n",
      "상품명: 스코홈 빅리플 여름 차렵이불패드 3종 세트, 마린그레이\n",
      "05 Jun 2020\n",
      "상품명: 아망떼 시어서커 리플 홑이불 패드세트, 웨이크\n",
      "05 Jun 2020\n",
      "상품명: 마이센스 무더운 여름엔 시어서커 여름이불 패드 베개 이불세트 30종, 시어서커_파스텔그레이\n",
      "05 Jun 2020\n",
      "상품명: 믹스앤매치 로라 프릴 시어서커 침구세트, 그레이\n",
      "05 Jun 2020\n",
      "상품명: 에피소드1 샤베트 프릴 시어서커 여름이불패드세트, 그레이\n",
      "05 Jun 2020\n",
      "상품명: 슈에뜨룸 선인장 리플 침구 세트, 베이지\n",
      "05 Jun 2020\n",
      "상품명: 아망떼 시어서커 리플 홑이불 패드세트, 허브티\n",
      "05 Jun 2020\n",
      "상품명: 지베딩 아이스베어 시어서커 여름침구 풀세트, 민트그레이\n",
      "05 Jun 2020\n",
      "상품명: 쁘리엘르 테스 시어서커 여름이불 패드세트, 그레이\n",
      "05 Jun 2020\n",
      "상품명: 쉬즈홈 시어서커 홑이불 + 토퍼 + 베개커버 세트, 나나 옐로우\n",
      "05 Jun 2020\n",
      "상품명: 아망떼 시어서커 리플 퀼팅 이불패드세트, 리엔나\n",
      "05 Jun 2020\n",
      "상품명: 바자르 트로피컬 인견 여름 이불세트 인견이불 + 베개커버 2p + 인견패드, 그린\n",
      "05 Jun 2020\n",
      "상품명: 바자르 라이닝 혼방 인견 여름 이불베개세트 + 패드 Q, 쿨 네이비\n",
      "05 Jun 2020\n",
      "상품명: 슈에뜨룸 비숑 피치스킨 침구세트, 그레이\n",
      "05 Jun 2020\n",
      "상품명: 스코홈 시어서커 여름 이불 패드 3종 세트, 차콜\n",
      "05 Jun 2020\n",
      "상품명: 스코홈 어번시리즈 순면 차렵이불 누빔 매트커버세트 S 차콜\n",
      "05 Jun 2020\n",
      "상품명: 쉬즈홈 루즈 시어서커 차렵이불 패드세트, 그레이\n",
      "05 Jun 2020\n",
      "상품명: 예가로드 메리엘 시어서커 누비이불 패드세트, 블루\n",
      "05 Jun 2020\n",
      "상품명: 에피소드1 샤베트 프릴 시어서커 여름이불패드세트, 화이트\n",
      "05 Jun 2020\n",
      "상품명: 쉬즈홈 플루 시어서커 차렵이불 패드세트, 그린\n",
      "05 Jun 2020\n",
      "상품명: 메종 레이스 차렵 이불 세트, 블루\n",
      "05 Jun 2020\n",
      "상품명: 믹스앤매치 로라 프릴 시어서커 침구세트, 그린\n",
      "05 Jun 2020\n",
      "상품명: 슈에뜨룸 발그레 피치 리플 침구 세트, 혼합 색상\n",
      "05 Jun 2020\n",
      "상품명: 보몽드 메종 레이스 차렵이불 3종 세트, 민트\n",
      "05 Jun 2020\n",
      "상품명: 슈에뜨룸 체크 피치스킨 침구세트, 모카\n",
      "05 Jun 2020\n",
      "상품명: 메리엘 시어서커 에어리플 이불세트, 그레이\n",
      "05 Jun 2020\n",
      "상품명: 슈에뜨룸 빠삐용 시어서커 침구세트, 네이비\n",
      "05 Jun 2020\n",
      "상품명: 믹스앤매치 에이프릴 리플 누비이불 패드세트, 화이트\n",
      "05 Jun 2020\n",
      "상품명: 쉬즈홈 시어서커 홑이불 토퍼세트, 루즈 그레이\n",
      "05 Jun 2020\n",
      "상품명: 이코디 5단 엔틱 도어 행거, 브라운, 1개\n",
      "05 Jun 2020\n",
      "상품명: 선우랜드 우드볼 도어훅 4구, 실버, 1개\n",
      "05 Jun 2020\n",
      "상품명: 리은상점 다용도 도어훅 문걸이 행거 모자걸이 머플러 목도리 걸이, 화이트, 5개\n",
      "05 Jun 2020\n",
      "상품명: 퍼니스코 다용도걸이 모자걸이 가방걸이 도어훅 도어행거 문걸이, 엔틱브라운, 1세트\n",
      "05 Jun 2020\n",
      "상품명: 스텐 도어후크 옷걸이/도어훅 문옷걸이 행거 바지걸이, 혼합 색상, 1개\n",
      "05 Jun 2020\n",
      "상품명: 디비플러스 키펙스 컬러 폭조절 오버 도어훅, 블랙, 1개\n",
      "05 Jun 2020\n",
      "상품명: 리빙스토리 1+1 문에 거는 문 옷걸이 음자리 도어후크 방문 행거, 음자리도어후크-로즈골드, 2개\n",
      "05 Jun 2020\n",
      "상품명: 나이스후크 도어행거 2개 세트 (문행거), 블랙+화이트\n",
      "05 Jun 2020\n",
      "상품명: 리빙파이 도어훅 옷걸이 행거 7구, 블랙, 1개\n",
      "05 Jun 2020\n",
      "상품명: 선우랜드 우드볼 도어훅 10구, 실버, 1개\n",
      "05 Jun 2020\n",
      "상품명: 웰렉스 도어행거 MH1060 신형 본사직발송 미니건조대 도어옷걸이 도어훅, 고동색, 1개\n",
      "05 Jun 2020\n",
      "상품명: 엔비 엔틱 7구 도어훅 옷걸이, 도어훅 1+1, 1+1\n",
      "05 Jun 2020\n",
      "상품명: 코시나 무타공 문걸이 후크선반 1단, 화이트, 1개\n",
      "05 Jun 2020\n",
      "상품명: 코시나 무타공 올스텐 문걸이행거, 혼합 색상, 1개\n",
      "05 Jun 2020\n",
      "상품명: [아트박스 POOM/이케아] ENUDDEN 도어 행거, 본품, 수량\n",
      "05 Jun 2020\n",
      "상품명: 비스비바 우드 폴 다용도걸이 3구, 혼합 색상, 1개\n",
      "05 Jun 2020\n",
      "상품명: 숲속애 웨이브 도어후크 5구, 블랙, 1개\n",
      "05 Jun 2020\n",
      "상품명: 펀타스틱 다용도 문틀걸이, 화이트, 1개\n",
      "05 Jun 2020\n",
      "상품명: 선우랜드 우드볼 도어훅 4구, 화이트, 1개\n",
      "05 Jun 2020\n",
      "상품명: 네이쳐리빙 어반모카 와이어 도어훅 옷걸이 6구, 단일 색상, 1개\n",
      "05 Jun 2020\n",
      "상품명: 까사마루 블랑 접이식 문걸이 건조대, 1개\n",
      "05 Jun 2020\n",
      "상품명: 선우랜드 우드볼 도어훅 6구, 실버, 1개\n",
      "05 Jun 2020\n",
      "상품명: 이케아 ENUDDEN 문걸이 행거 402.516.66, 화이트, 1개\n",
      "05 Jun 2020\n",
      "상품명: 선우랜드 우드볼 도어훅 10구, 화이트, 1개\n",
      "05 Jun 2020\n",
      "상품명: 코멧 홈 우드볼 도어행거, 6구, 혼합색상\n",
      "05 Jun 2020\n",
      "상품명: 선우랜드 레인보우 2단 문걸이용 옷걸이 _중형, 화이트, 상세페이지참조\n",
      "05 Jun 2020\n",
      "상품명: 코시나 무타공 문걸이 후크선반 2단, 화이트, 1개\n",
      "05 Jun 2020\n",
      "상품명: 스파이더락 도어후크 8구, 화이트, 1개\n",
      "05 Jun 2020\n",
      "상품명: 선우랜드 우드볼 도어훅 6구, 화이트, 1개\n",
      "05 Jun 2020\n",
      "상품명: 코멧 홈 우드볼 도어행거, 10구, 혼합색상\n",
      "05 Jun 2020\n",
      "상품명: 보드래 헬로우 누빔 매트리스커버, 핑크\n",
      "05 Jun 2020\n",
      "상품명: 보몽드 순면스퀘어 솔리드 누빔매트커버, 아이보리\n",
      "05 Jun 2020\n",
      "상품명: 더자리 에코항균 마이크로 매트리스커버, 밀키핑크\n",
      "05 Jun 2020\n",
      "상품명: 타카타카 프리미엄 나노 화이바 누빔 매트리스 커버, 미스밍고\n",
      "05 Jun 2020\n",
      "상품명: 네이쳐리빙 피아블 클래식 방수 매트리스커버, 그레이\n",
      "05 Jun 2020\n",
      "상품명: 프로텍트어베드 베이직 매트리스 방수커버, 그레이\n",
      "05 Jun 2020\n"
     ]
    }
   ],
   "source": [
    "for row in 엑셀자료['상품'].rows:\n",
    "#     print(row.value)\n",
    "    for data in row:\n",
    "        print(data.value)\n",
    "    "
   ]
  },
  {
   "cell_type": "code",
   "execution_count": 115,
   "id": "74714878",
   "metadata": {
    "ExecuteTime": {
     "end_time": "2021-11-16T05:38:25.034839Z",
     "start_time": "2021-11-16T05:38:22.411805Z"
    }
   },
   "outputs": [
    {
     "data": {
      "text/html": [
       "<div>\n",
       "<style scoped>\n",
       "    .dataframe tbody tr th:only-of-type {\n",
       "        vertical-align: middle;\n",
       "    }\n",
       "\n",
       "    .dataframe tbody tr th {\n",
       "        vertical-align: top;\n",
       "    }\n",
       "\n",
       "    .dataframe thead th {\n",
       "        text-align: right;\n",
       "    }\n",
       "</style>\n",
       "<table border=\"1\" class=\"dataframe\">\n",
       "  <thead>\n",
       "    <tr style=\"text-align: right;\">\n",
       "      <th></th>\n",
       "      <th>상품명</th>\n",
       "      <th>날짜</th>\n",
       "    </tr>\n",
       "  </thead>\n",
       "  <tbody>\n",
       "    <tr>\n",
       "      <th>0</th>\n",
       "      <td>상품명: 보몽드 순면스퀘어 솔리드 누빔매트커버, 다크블루</td>\n",
       "      <td>05 Jun 2020</td>\n",
       "    </tr>\n",
       "    <tr>\n",
       "      <th>1</th>\n",
       "      <td>상품명: 슈에뜨룸 선인장 리플 침구 세트, 베이지</td>\n",
       "      <td>05 Jun 2020</td>\n",
       "    </tr>\n",
       "    <tr>\n",
       "      <th>2</th>\n",
       "      <td>상품명: 선우랜드 레인보우 2단 문걸이용 옷걸이 _중형, 화이트, 상세페이지참조</td>\n",
       "      <td>05 Jun 2020</td>\n",
       "    </tr>\n",
       "    <tr>\n",
       "      <th>3</th>\n",
       "      <td>상품명: 보드래 헬로우 누빔 매트리스커버, 핑크</td>\n",
       "      <td>05 Jun 2020</td>\n",
       "    </tr>\n",
       "    <tr>\n",
       "      <th>4</th>\n",
       "      <td>상품명: 보드래 퍼펙트 누빔 매트리스커버, 차콜</td>\n",
       "      <td>05 Jun 2020</td>\n",
       "    </tr>\n",
       "    <tr>\n",
       "      <th>...</th>\n",
       "      <td>...</td>\n",
       "      <td>...</td>\n",
       "    </tr>\n",
       "    <tr>\n",
       "      <th>89</th>\n",
       "      <td>상품명: 보몽드 순면스퀘어 솔리드 누빔매트커버, 아이보리</td>\n",
       "      <td>05 Jun 2020</td>\n",
       "    </tr>\n",
       "    <tr>\n",
       "      <th>90</th>\n",
       "      <td>상품명: 더자리 에코항균 마이크로 매트리스커버, 밀키핑크</td>\n",
       "      <td>05 Jun 2020</td>\n",
       "    </tr>\n",
       "    <tr>\n",
       "      <th>91</th>\n",
       "      <td>상품명: 타카타카 프리미엄 나노 화이바 누빔 매트리스 커버, 미스밍고</td>\n",
       "      <td>05 Jun 2020</td>\n",
       "    </tr>\n",
       "    <tr>\n",
       "      <th>92</th>\n",
       "      <td>상품명: 네이쳐리빙 피아블 클래식 방수 매트리스커버, 그레이</td>\n",
       "      <td>05 Jun 2020</td>\n",
       "    </tr>\n",
       "    <tr>\n",
       "      <th>93</th>\n",
       "      <td>상품명: 프로텍트어베드 베이직 매트리스 방수커버, 그레이</td>\n",
       "      <td>05 Jun 2020</td>\n",
       "    </tr>\n",
       "  </tbody>\n",
       "</table>\n",
       "<p>94 rows × 2 columns</p>\n",
       "</div>"
      ],
      "text/plain": [
       "                                             상품명           날짜\n",
       "0                상품명: 보몽드 순면스퀘어 솔리드 누빔매트커버, 다크블루  05 Jun 2020\n",
       "1                    상품명: 슈에뜨룸 선인장 리플 침구 세트, 베이지  05 Jun 2020\n",
       "2   상품명: 선우랜드 레인보우 2단 문걸이용 옷걸이 _중형, 화이트, 상세페이지참조  05 Jun 2020\n",
       "3                     상품명: 보드래 헬로우 누빔 매트리스커버, 핑크  05 Jun 2020\n",
       "4                     상품명: 보드래 퍼펙트 누빔 매트리스커버, 차콜  05 Jun 2020\n",
       "..                                           ...          ...\n",
       "89               상품명: 보몽드 순면스퀘어 솔리드 누빔매트커버, 아이보리  05 Jun 2020\n",
       "90               상품명: 더자리 에코항균 마이크로 매트리스커버, 밀키핑크  05 Jun 2020\n",
       "91        상품명: 타카타카 프리미엄 나노 화이바 누빔 매트리스 커버, 미스밍고  05 Jun 2020\n",
       "92             상품명: 네이쳐리빙 피아블 클래식 방수 매트리스커버, 그레이  05 Jun 2020\n",
       "93               상품명: 프로텍트어베드 베이직 매트리스 방수커버, 그레이  05 Jun 2020\n",
       "\n",
       "[94 rows x 2 columns]"
      ]
     },
     "execution_count": 115,
     "metadata": {},
     "output_type": "execute_result"
    }
   ],
   "source": [
    "import pandas as pd \n",
    "pd.read_excel('판매목록.xlsx')"
   ]
  },
  {
   "cell_type": "code",
   "execution_count": null,
   "id": "37b7f003",
   "metadata": {},
   "outputs": [],
   "source": []
  }
 ],
 "metadata": {
  "kernelspec": {
   "display_name": "Python 3 (ipykernel)",
   "language": "python",
   "name": "python3"
  },
  "language_info": {
   "codemirror_mode": {
    "name": "ipython",
    "version": 3
   },
   "file_extension": ".py",
   "mimetype": "text/x-python",
   "name": "python",
   "nbconvert_exporter": "python",
   "pygments_lexer": "ipython3",
   "version": "3.8.9"
  },
  "toc": {
   "base_numbering": 1,
   "nav_menu": {},
   "number_sections": true,
   "sideBar": true,
   "skip_h1_title": false,
   "title_cell": "Table of Contents",
   "title_sidebar": "Contents",
   "toc_cell": false,
   "toc_position": {
    "height": "calc(100% - 180px)",
    "left": "10px",
    "top": "150px",
    "width": "204.8px"
   },
   "toc_section_display": true,
   "toc_window_display": true
  },
  "varInspector": {
   "cols": {
    "lenName": 16,
    "lenType": 16,
    "lenVar": 40
   },
   "kernels_config": {
    "python": {
     "delete_cmd_postfix": "",
     "delete_cmd_prefix": "del ",
     "library": "var_list.py",
     "varRefreshCmd": "print(var_dic_list())"
    },
    "r": {
     "delete_cmd_postfix": ") ",
     "delete_cmd_prefix": "rm(",
     "library": "var_list.r",
     "varRefreshCmd": "cat(var_dic_list()) "
    }
   },
   "types_to_exclude": [
    "module",
    "function",
    "builtin_function_or_method",
    "instance",
    "_Feature"
   ],
   "window_display": false
  }
 },
 "nbformat": 4,
 "nbformat_minor": 5
}
